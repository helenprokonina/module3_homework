{
 "cells": [
  {
   "cell_type": "markdown",
   "source": [
    "## Задание: предсказать цену за поездку на такси"
   ],
   "metadata": {
    "collapsed": false,
    "pycharm": {
     "name": "#%% md\n"
    }
   }
  },
  {
   "cell_type": "code",
   "execution_count": 2,
   "outputs": [],
   "source": [
    "import warnings\n",
    "warnings.filterwarnings(\"ignore\")"
   ],
   "metadata": {
    "collapsed": false,
    "pycharm": {
     "name": "#%%\n"
    }
   }
  },
  {
   "cell_type": "code",
   "execution_count": 3,
   "outputs": [],
   "source": [
    "import pandas as pd\n",
    "import numpy as np\n",
    "import matplotlib.pyplot as plt\n",
    "import seaborn as sns\n",
    "\n",
    "%matplotlib inline"
   ],
   "metadata": {
    "collapsed": false,
    "pycharm": {
     "name": "#%%\n"
    }
   }
  },
  {
   "cell_type": "code",
   "execution_count": 4,
   "outputs": [
    {
     "data": {
      "text/plain": "(519803, 57)"
     },
     "execution_count": 4,
     "metadata": {},
     "output_type": "execute_result"
    }
   ],
   "source": [
    "data=pd.read_csv(\"train.csv\")\n",
    "data.shape"
   ],
   "metadata": {
    "collapsed": false,
    "pycharm": {
     "name": "#%%\n"
    }
   }
  },
  {
   "cell_type": "code",
   "execution_count": 5,
   "outputs": [
    {
     "data": {
      "text/plain": "                                     id     timestamp  hour  day  month  \\\n0  885116c8-8e5c-4d4e-af4d-1fd53c6b2464  1.543564e+09     7   30     11   \n1  93fb610d-bb94-45bc-98b8-0a4a2e349ab2  1.544822e+09    21   14     12   \n2  69244a0f-6ec6-4265-b73e-3dcb069d671e  1.543834e+09    10    3     12   \n3  230cbecb-368e-4b8d-b9f1-67a40f68991f  1.543759e+09    14    2     12   \n4  6c873c64-967e-47f2-bd89-5ec6fd330aa3  1.544973e+09    15   16     12   \n\n              datetime          timezone              source  \\\n0  2018-11-30 07:47:56  America/New_York       North Station   \n1  2018-12-14 21:20:11  America/New_York            West End   \n2  2018-12-03 10:52:59  America/New_York    Theatre District   \n3  2018-12-02 14:03:04  America/New_York   Boston University   \n4  2018-12-16 15:05:17  America/New_York  Financial District   \n\n         destination cab_type  ... precipIntensityMax uvIndexTime  \\\n0      South Station     Lyft  ...             0.0003  1543593600   \n1      South Station     Uber  ...             0.0000  1544806800   \n2  Boston University     Lyft  ...             0.0007  1543852800   \n3           Back Bay     Uber  ...             0.0904  1543770000   \n4          North End     Lyft  ...             0.1252  1544979600   \n\n   temperatureMin  temperatureMinTime  temperatureMax  temperatureMaxTime  \\\n0           28.78          1543579200           42.64          1543600800   \n1           26.76          1544788800           46.90          1544814000   \n2           42.96          1543896000           57.87          1543852800   \n3           36.45          1543726800           50.73          1543788000   \n4           39.22          1544954400           43.83          1544990400   \n\n   apparentTemperatureMin  apparentTemperatureMinTime  apparentTemperatureMax  \\\n0                   26.35                  1543575600                   40.61   \n1                   27.41                  1544788800                   44.15   \n2                   39.41                  1543896000                   57.20   \n3                   35.85                  1543748400                   50.06   \n4                   33.98                  1545019200                   38.38   \n\n  apparentTemperatureMaxTime  \n0                 1543611600  \n1                 1544817600  \n2                 1543852800  \n3                 1543788000  \n4                 1544986800  \n\n[5 rows x 57 columns]",
      "text/html": "<div>\n<style scoped>\n    .dataframe tbody tr th:only-of-type {\n        vertical-align: middle;\n    }\n\n    .dataframe tbody tr th {\n        vertical-align: top;\n    }\n\n    .dataframe thead th {\n        text-align: right;\n    }\n</style>\n<table border=\"1\" class=\"dataframe\">\n  <thead>\n    <tr style=\"text-align: right;\">\n      <th></th>\n      <th>id</th>\n      <th>timestamp</th>\n      <th>hour</th>\n      <th>day</th>\n      <th>month</th>\n      <th>datetime</th>\n      <th>timezone</th>\n      <th>source</th>\n      <th>destination</th>\n      <th>cab_type</th>\n      <th>...</th>\n      <th>precipIntensityMax</th>\n      <th>uvIndexTime</th>\n      <th>temperatureMin</th>\n      <th>temperatureMinTime</th>\n      <th>temperatureMax</th>\n      <th>temperatureMaxTime</th>\n      <th>apparentTemperatureMin</th>\n      <th>apparentTemperatureMinTime</th>\n      <th>apparentTemperatureMax</th>\n      <th>apparentTemperatureMaxTime</th>\n    </tr>\n  </thead>\n  <tbody>\n    <tr>\n      <th>0</th>\n      <td>885116c8-8e5c-4d4e-af4d-1fd53c6b2464</td>\n      <td>1.543564e+09</td>\n      <td>7</td>\n      <td>30</td>\n      <td>11</td>\n      <td>2018-11-30 07:47:56</td>\n      <td>America/New_York</td>\n      <td>North Station</td>\n      <td>South Station</td>\n      <td>Lyft</td>\n      <td>...</td>\n      <td>0.0003</td>\n      <td>1543593600</td>\n      <td>28.78</td>\n      <td>1543579200</td>\n      <td>42.64</td>\n      <td>1543600800</td>\n      <td>26.35</td>\n      <td>1543575600</td>\n      <td>40.61</td>\n      <td>1543611600</td>\n    </tr>\n    <tr>\n      <th>1</th>\n      <td>93fb610d-bb94-45bc-98b8-0a4a2e349ab2</td>\n      <td>1.544822e+09</td>\n      <td>21</td>\n      <td>14</td>\n      <td>12</td>\n      <td>2018-12-14 21:20:11</td>\n      <td>America/New_York</td>\n      <td>West End</td>\n      <td>South Station</td>\n      <td>Uber</td>\n      <td>...</td>\n      <td>0.0000</td>\n      <td>1544806800</td>\n      <td>26.76</td>\n      <td>1544788800</td>\n      <td>46.90</td>\n      <td>1544814000</td>\n      <td>27.41</td>\n      <td>1544788800</td>\n      <td>44.15</td>\n      <td>1544817600</td>\n    </tr>\n    <tr>\n      <th>2</th>\n      <td>69244a0f-6ec6-4265-b73e-3dcb069d671e</td>\n      <td>1.543834e+09</td>\n      <td>10</td>\n      <td>3</td>\n      <td>12</td>\n      <td>2018-12-03 10:52:59</td>\n      <td>America/New_York</td>\n      <td>Theatre District</td>\n      <td>Boston University</td>\n      <td>Lyft</td>\n      <td>...</td>\n      <td>0.0007</td>\n      <td>1543852800</td>\n      <td>42.96</td>\n      <td>1543896000</td>\n      <td>57.87</td>\n      <td>1543852800</td>\n      <td>39.41</td>\n      <td>1543896000</td>\n      <td>57.20</td>\n      <td>1543852800</td>\n    </tr>\n    <tr>\n      <th>3</th>\n      <td>230cbecb-368e-4b8d-b9f1-67a40f68991f</td>\n      <td>1.543759e+09</td>\n      <td>14</td>\n      <td>2</td>\n      <td>12</td>\n      <td>2018-12-02 14:03:04</td>\n      <td>America/New_York</td>\n      <td>Boston University</td>\n      <td>Back Bay</td>\n      <td>Uber</td>\n      <td>...</td>\n      <td>0.0904</td>\n      <td>1543770000</td>\n      <td>36.45</td>\n      <td>1543726800</td>\n      <td>50.73</td>\n      <td>1543788000</td>\n      <td>35.85</td>\n      <td>1543748400</td>\n      <td>50.06</td>\n      <td>1543788000</td>\n    </tr>\n    <tr>\n      <th>4</th>\n      <td>6c873c64-967e-47f2-bd89-5ec6fd330aa3</td>\n      <td>1.544973e+09</td>\n      <td>15</td>\n      <td>16</td>\n      <td>12</td>\n      <td>2018-12-16 15:05:17</td>\n      <td>America/New_York</td>\n      <td>Financial District</td>\n      <td>North End</td>\n      <td>Lyft</td>\n      <td>...</td>\n      <td>0.1252</td>\n      <td>1544979600</td>\n      <td>39.22</td>\n      <td>1544954400</td>\n      <td>43.83</td>\n      <td>1544990400</td>\n      <td>33.98</td>\n      <td>1545019200</td>\n      <td>38.38</td>\n      <td>1544986800</td>\n    </tr>\n  </tbody>\n</table>\n<p>5 rows × 57 columns</p>\n</div>"
     },
     "execution_count": 5,
     "metadata": {},
     "output_type": "execute_result"
    }
   ],
   "source": [
    "data.head()"
   ],
   "metadata": {
    "collapsed": false,
    "pycharm": {
     "name": "#%%\n"
    }
   }
  },
  {
   "cell_type": "code",
   "execution_count": 6,
   "outputs": [
    {
     "name": "stdout",
     "output_type": "stream",
     "text": [
      "<class 'pandas.core.frame.DataFrame'>\n",
      "RangeIndex: 519803 entries, 0 to 519802\n",
      "Data columns (total 57 columns):\n",
      " #   Column                       Non-Null Count   Dtype  \n",
      "---  ------                       --------------   -----  \n",
      " 0   id                           519803 non-null  object \n",
      " 1   timestamp                    519803 non-null  float64\n",
      " 2   hour                         519803 non-null  int64  \n",
      " 3   day                          519803 non-null  int64  \n",
      " 4   month                        519803 non-null  int64  \n",
      " 5   datetime                     519803 non-null  object \n",
      " 6   timezone                     519803 non-null  object \n",
      " 7   source                       519803 non-null  object \n",
      " 8   destination                  519803 non-null  object \n",
      " 9   cab_type                     519803 non-null  object \n",
      " 10  product_id                   519803 non-null  object \n",
      " 11  name                         519803 non-null  object \n",
      " 12  price                        478523 non-null  float64\n",
      " 13  distance                     519803 non-null  float64\n",
      " 14  surge_multiplier             519803 non-null  float64\n",
      " 15  latitude                     519803 non-null  float64\n",
      " 16  longitude                    519803 non-null  float64\n",
      " 17  temperature                  519803 non-null  float64\n",
      " 18  apparentTemperature          519803 non-null  float64\n",
      " 19  short_summary                519803 non-null  object \n",
      " 20  long_summary                 519803 non-null  object \n",
      " 21  precipIntensity              519803 non-null  float64\n",
      " 22  precipProbability            519803 non-null  float64\n",
      " 23  humidity                     519803 non-null  float64\n",
      " 24  windSpeed                    519803 non-null  float64\n",
      " 25  windGust                     519803 non-null  float64\n",
      " 26  windGustTime                 519803 non-null  int64  \n",
      " 27  visibility                   519803 non-null  float64\n",
      " 28  temperatureHigh              519803 non-null  float64\n",
      " 29  temperatureHighTime          519803 non-null  int64  \n",
      " 30  temperatureLow               519803 non-null  float64\n",
      " 31  temperatureLowTime           519803 non-null  int64  \n",
      " 32  apparentTemperatureHigh      519803 non-null  float64\n",
      " 33  apparentTemperatureHighTime  519803 non-null  int64  \n",
      " 34  apparentTemperatureLow       519803 non-null  float64\n",
      " 35  apparentTemperatureLowTime   519803 non-null  int64  \n",
      " 36  icon                         519803 non-null  object \n",
      " 37  dewPoint                     519803 non-null  float64\n",
      " 38  pressure                     519803 non-null  float64\n",
      " 39  windBearing                  519803 non-null  int64  \n",
      " 40  cloudCover                   519803 non-null  float64\n",
      " 41  uvIndex                      519803 non-null  int64  \n",
      " 42  visibility.1                 519803 non-null  float64\n",
      " 43  ozone                        519803 non-null  float64\n",
      " 44  sunriseTime                  519803 non-null  int64  \n",
      " 45  sunsetTime                   519803 non-null  int64  \n",
      " 46  moonPhase                    519803 non-null  float64\n",
      " 47  precipIntensityMax           519803 non-null  float64\n",
      " 48  uvIndexTime                  519803 non-null  int64  \n",
      " 49  temperatureMin               519803 non-null  float64\n",
      " 50  temperatureMinTime           519803 non-null  int64  \n",
      " 51  temperatureMax               519803 non-null  float64\n",
      " 52  temperatureMaxTime           519803 non-null  int64  \n",
      " 53  apparentTemperatureMin       519803 non-null  float64\n",
      " 54  apparentTemperatureMinTime   519803 non-null  int64  \n",
      " 55  apparentTemperatureMax       519803 non-null  float64\n",
      " 56  apparentTemperatureMaxTime   519803 non-null  int64  \n",
      "dtypes: float64(29), int64(17), object(11)\n",
      "memory usage: 226.0+ MB\n"
     ]
    }
   ],
   "source": [
    "data.info()"
   ],
   "metadata": {
    "collapsed": false,
    "pycharm": {
     "name": "#%%\n"
    }
   }
  },
  {
   "cell_type": "markdown",
   "source": [
    "# Feature preprocessing"
   ],
   "metadata": {
    "collapsed": false,
    "pycharm": {
     "name": "#%% md\n"
    }
   }
  },
  {
   "cell_type": "code",
   "execution_count": 7,
   "outputs": [
    {
     "data": {
      "text/plain": "      timestamp  hour  day  month             datetime          timezone  \\\n0  1.543564e+09     7   30     11  2018-11-30 07:47:56  America/New_York   \n1  1.544822e+09    21   14     12  2018-12-14 21:20:11  America/New_York   \n2  1.543834e+09    10    3     12  2018-12-03 10:52:59  America/New_York   \n3  1.543759e+09    14    2     12  2018-12-02 14:03:04  America/New_York   \n4  1.544973e+09    15   16     12  2018-12-16 15:05:17  America/New_York   \n\n               source        destination cab_type       name  ...  \\\n0       North Station      South Station     Lyft       Lyft  ...   \n1            West End      South Station     Uber  Black SUV  ...   \n2    Theatre District  Boston University     Lyft     Shared  ...   \n3   Boston University           Back Bay     Uber      UberX  ...   \n4  Financial District          North End     Lyft       Lyft  ...   \n\n   precipIntensityMax  uvIndexTime  temperatureMin  temperatureMinTime  \\\n0              0.0003   1543593600           28.78          1543579200   \n1              0.0000   1544806800           26.76          1544788800   \n2              0.0007   1543852800           42.96          1543896000   \n3              0.0904   1543770000           36.45          1543726800   \n4              0.1252   1544979600           39.22          1544954400   \n\n   temperatureMax  temperatureMaxTime  apparentTemperatureMin  \\\n0           42.64          1543600800                   26.35   \n1           46.90          1544814000                   27.41   \n2           57.87          1543852800                   39.41   \n3           50.73          1543788000                   35.85   \n4           43.83          1544990400                   33.98   \n\n  apparentTemperatureMinTime apparentTemperatureMax  \\\n0                 1543575600                  40.61   \n1                 1544788800                  44.15   \n2                 1543896000                  57.20   \n3                 1543748400                  50.06   \n4                 1545019200                  38.38   \n\n   apparentTemperatureMaxTime  \n0                  1543611600  \n1                  1544817600  \n2                  1543852800  \n3                  1543788000  \n4                  1544986800  \n\n[5 rows x 55 columns]",
      "text/html": "<div>\n<style scoped>\n    .dataframe tbody tr th:only-of-type {\n        vertical-align: middle;\n    }\n\n    .dataframe tbody tr th {\n        vertical-align: top;\n    }\n\n    .dataframe thead th {\n        text-align: right;\n    }\n</style>\n<table border=\"1\" class=\"dataframe\">\n  <thead>\n    <tr style=\"text-align: right;\">\n      <th></th>\n      <th>timestamp</th>\n      <th>hour</th>\n      <th>day</th>\n      <th>month</th>\n      <th>datetime</th>\n      <th>timezone</th>\n      <th>source</th>\n      <th>destination</th>\n      <th>cab_type</th>\n      <th>name</th>\n      <th>...</th>\n      <th>precipIntensityMax</th>\n      <th>uvIndexTime</th>\n      <th>temperatureMin</th>\n      <th>temperatureMinTime</th>\n      <th>temperatureMax</th>\n      <th>temperatureMaxTime</th>\n      <th>apparentTemperatureMin</th>\n      <th>apparentTemperatureMinTime</th>\n      <th>apparentTemperatureMax</th>\n      <th>apparentTemperatureMaxTime</th>\n    </tr>\n  </thead>\n  <tbody>\n    <tr>\n      <th>0</th>\n      <td>1.543564e+09</td>\n      <td>7</td>\n      <td>30</td>\n      <td>11</td>\n      <td>2018-11-30 07:47:56</td>\n      <td>America/New_York</td>\n      <td>North Station</td>\n      <td>South Station</td>\n      <td>Lyft</td>\n      <td>Lyft</td>\n      <td>...</td>\n      <td>0.0003</td>\n      <td>1543593600</td>\n      <td>28.78</td>\n      <td>1543579200</td>\n      <td>42.64</td>\n      <td>1543600800</td>\n      <td>26.35</td>\n      <td>1543575600</td>\n      <td>40.61</td>\n      <td>1543611600</td>\n    </tr>\n    <tr>\n      <th>1</th>\n      <td>1.544822e+09</td>\n      <td>21</td>\n      <td>14</td>\n      <td>12</td>\n      <td>2018-12-14 21:20:11</td>\n      <td>America/New_York</td>\n      <td>West End</td>\n      <td>South Station</td>\n      <td>Uber</td>\n      <td>Black SUV</td>\n      <td>...</td>\n      <td>0.0000</td>\n      <td>1544806800</td>\n      <td>26.76</td>\n      <td>1544788800</td>\n      <td>46.90</td>\n      <td>1544814000</td>\n      <td>27.41</td>\n      <td>1544788800</td>\n      <td>44.15</td>\n      <td>1544817600</td>\n    </tr>\n    <tr>\n      <th>2</th>\n      <td>1.543834e+09</td>\n      <td>10</td>\n      <td>3</td>\n      <td>12</td>\n      <td>2018-12-03 10:52:59</td>\n      <td>America/New_York</td>\n      <td>Theatre District</td>\n      <td>Boston University</td>\n      <td>Lyft</td>\n      <td>Shared</td>\n      <td>...</td>\n      <td>0.0007</td>\n      <td>1543852800</td>\n      <td>42.96</td>\n      <td>1543896000</td>\n      <td>57.87</td>\n      <td>1543852800</td>\n      <td>39.41</td>\n      <td>1543896000</td>\n      <td>57.20</td>\n      <td>1543852800</td>\n    </tr>\n    <tr>\n      <th>3</th>\n      <td>1.543759e+09</td>\n      <td>14</td>\n      <td>2</td>\n      <td>12</td>\n      <td>2018-12-02 14:03:04</td>\n      <td>America/New_York</td>\n      <td>Boston University</td>\n      <td>Back Bay</td>\n      <td>Uber</td>\n      <td>UberX</td>\n      <td>...</td>\n      <td>0.0904</td>\n      <td>1543770000</td>\n      <td>36.45</td>\n      <td>1543726800</td>\n      <td>50.73</td>\n      <td>1543788000</td>\n      <td>35.85</td>\n      <td>1543748400</td>\n      <td>50.06</td>\n      <td>1543788000</td>\n    </tr>\n    <tr>\n      <th>4</th>\n      <td>1.544973e+09</td>\n      <td>15</td>\n      <td>16</td>\n      <td>12</td>\n      <td>2018-12-16 15:05:17</td>\n      <td>America/New_York</td>\n      <td>Financial District</td>\n      <td>North End</td>\n      <td>Lyft</td>\n      <td>Lyft</td>\n      <td>...</td>\n      <td>0.1252</td>\n      <td>1544979600</td>\n      <td>39.22</td>\n      <td>1544954400</td>\n      <td>43.83</td>\n      <td>1544990400</td>\n      <td>33.98</td>\n      <td>1545019200</td>\n      <td>38.38</td>\n      <td>1544986800</td>\n    </tr>\n  </tbody>\n</table>\n<p>5 rows × 55 columns</p>\n</div>"
     },
     "execution_count": 7,
     "metadata": {},
     "output_type": "execute_result"
    }
   ],
   "source": [
    "#удаляем не несущие информацию столбцы id, product_id\n",
    "data.drop(['id','product_id'], axis=1, inplace=True)\n",
    "data.head()"
   ],
   "metadata": {
    "collapsed": false,
    "pycharm": {
     "name": "#%%\n"
    }
   }
  },
  {
   "cell_type": "code",
   "execution_count": 8,
   "outputs": [
    {
     "data": {
      "text/plain": "timestamp                          0\nhour                               0\nday                                0\nmonth                              0\ndatetime                           0\ntimezone                           0\nsource                             0\ndestination                        0\ncab_type                           0\nname                               0\nprice                          41280\ndistance                           0\nsurge_multiplier                   0\nlatitude                           0\nlongitude                          0\ntemperature                        0\napparentTemperature                0\nshort_summary                      0\nlong_summary                       0\nprecipIntensity                    0\nprecipProbability                  0\nhumidity                           0\nwindSpeed                          0\nwindGust                           0\nwindGustTime                       0\nvisibility                         0\ntemperatureHigh                    0\ntemperatureHighTime                0\ntemperatureLow                     0\ntemperatureLowTime                 0\napparentTemperatureHigh            0\napparentTemperatureHighTime        0\napparentTemperatureLow             0\napparentTemperatureLowTime         0\nicon                               0\ndewPoint                           0\npressure                           0\nwindBearing                        0\ncloudCover                         0\nuvIndex                            0\nvisibility.1                       0\nozone                              0\nsunriseTime                        0\nsunsetTime                         0\nmoonPhase                          0\nprecipIntensityMax                 0\nuvIndexTime                        0\ntemperatureMin                     0\ntemperatureMinTime                 0\ntemperatureMax                     0\ntemperatureMaxTime                 0\napparentTemperatureMin             0\napparentTemperatureMinTime         0\napparentTemperatureMax             0\napparentTemperatureMaxTime         0\ndtype: int64"
     },
     "execution_count": 8,
     "metadata": {},
     "output_type": "execute_result"
    }
   ],
   "source": [
    "#проверим пропуски\n",
    "data.isnull().sum()"
   ],
   "metadata": {
    "collapsed": false,
    "pycharm": {
     "name": "#%%\n"
    }
   }
  },
  {
   "cell_type": "code",
   "execution_count": 9,
   "outputs": [
    {
     "data": {
      "text/plain": "timestamp                      0\nhour                           0\nday                            0\nmonth                          0\ndatetime                       0\ntimezone                       0\nsource                         0\ndestination                    0\ncab_type                       0\nname                           0\nprice                          0\ndistance                       0\nsurge_multiplier               0\nlatitude                       0\nlongitude                      0\ntemperature                    0\napparentTemperature            0\nshort_summary                  0\nlong_summary                   0\nprecipIntensity                0\nprecipProbability              0\nhumidity                       0\nwindSpeed                      0\nwindGust                       0\nwindGustTime                   0\nvisibility                     0\ntemperatureHigh                0\ntemperatureHighTime            0\ntemperatureLow                 0\ntemperatureLowTime             0\napparentTemperatureHigh        0\napparentTemperatureHighTime    0\napparentTemperatureLow         0\napparentTemperatureLowTime     0\nicon                           0\ndewPoint                       0\npressure                       0\nwindBearing                    0\ncloudCover                     0\nuvIndex                        0\nvisibility.1                   0\nozone                          0\nsunriseTime                    0\nsunsetTime                     0\nmoonPhase                      0\nprecipIntensityMax             0\nuvIndexTime                    0\ntemperatureMin                 0\ntemperatureMinTime             0\ntemperatureMax                 0\ntemperatureMaxTime             0\napparentTemperatureMin         0\napparentTemperatureMinTime     0\napparentTemperatureMax         0\napparentTemperatureMaxTime     0\ndtype: int64"
     },
     "execution_count": 9,
     "metadata": {},
     "output_type": "execute_result"
    }
   ],
   "source": [
    "#так как price - это то, что мы предсказываем, то выбросим строки, где нет price\n",
    "data.dropna(axis=0, inplace=True)\n",
    "data.isnull().sum()"
   ],
   "metadata": {
    "collapsed": false,
    "pycharm": {
     "name": "#%%\n"
    }
   }
  },
  {
   "cell_type": "code",
   "execution_count": 10,
   "outputs": [
    {
     "data": {
      "text/plain": "America/New_York    478523\nName: timezone, dtype: int64"
     },
     "execution_count": 10,
     "metadata": {},
     "output_type": "execute_result"
    }
   ],
   "source": [
    "data.timezone.value_counts()"
   ],
   "metadata": {
    "collapsed": false,
    "pycharm": {
     "name": "#%%\n"
    }
   }
  },
  {
   "cell_type": "code",
   "execution_count": 11,
   "outputs": [],
   "source": [
    "#выбрасываем этот признак, так как он одинаковый у всех строк\n",
    "data.drop(['timezone'], axis=1, inplace=True)"
   ],
   "metadata": {
    "collapsed": false,
    "pycharm": {
     "name": "#%%\n"
    }
   }
  },
  {
   "cell_type": "code",
   "execution_count": 12,
   "outputs": [
    {
     "data": {
      "text/plain": "Financial District         40690\nSouth Station              39956\nHaymarket Square           39927\nNorth End                  39906\nBack Bay                   39892\nBoston University          39871\nFenway                     39865\nWest End                   39826\nNortheastern University    39822\nBeacon Hill                39750\nTheatre District           39660\nNorth Station              39358\nName: source, dtype: int64"
     },
     "execution_count": 12,
     "metadata": {},
     "output_type": "execute_result"
    }
   ],
   "source": [
    "data.source.value_counts()"
   ],
   "metadata": {
    "collapsed": false,
    "pycharm": {
     "name": "#%%\n"
    }
   }
  },
  {
   "cell_type": "code",
   "execution_count": 13,
   "outputs": [
    {
     "data": {
      "text/plain": "<AxesSubplot:>"
     },
     "execution_count": 13,
     "metadata": {},
     "output_type": "execute_result"
    },
    {
     "data": {
      "text/plain": "<Figure size 432x288 with 1 Axes>",
      "image/png": "[encoded data removed]"
     },
     "metadata": {
      "needs_background": "light"
     },
     "output_type": "display_data"
    }
   ],
   "source": [
    "data.source.hist()"
   ],
   "metadata": {
    "collapsed": false,
    "pycharm": {
     "name": "#%%\n"
    }
   }
  },
  {
   "cell_type": "code",
   "execution_count": 14,
   "outputs": [
    {
     "data": {
      "text/plain": "Financial District         40600\nTheatre District           40031\nNortheastern University    39960\nHaymarket Square           39906\nSouth Station              39901\nFenway                     39863\nWest End                   39830\nNorth End                  39783\nBoston University          39763\nBack Bay                   39750\nBeacon Hill                39688\nNorth Station              39448\nName: destination, dtype: int64"
     },
     "execution_count": 14,
     "metadata": {},
     "output_type": "execute_result"
    }
   ],
   "source": [
    "data.destination.value_counts()\n",
    "#такие же, как в source"
   ],
   "metadata": {
    "collapsed": false,
    "pycharm": {
     "name": "#%%\n"
    }
   }
  },
  {
   "cell_type": "code",
   "execution_count": 15,
   "outputs": [
    {
     "data": {
      "text/plain": "<AxesSubplot:>"
     },
     "execution_count": 15,
     "metadata": {},
     "output_type": "execute_result"
    },
    {
     "data": {
      "text/plain": "<Figure size 432x288 with 1 Axes>",
      "image/png": "[encoded data removed]"
     },
     "metadata": {
      "needs_background": "light"
     },
     "output_type": "display_data"
    }
   ],
   "source": [
    "data.destination.hist()"
   ],
   "metadata": {
    "collapsed": false,
    "pycharm": {
     "name": "#%%\n"
    }
   }
  },
  {
   "cell_type": "code",
   "execution_count": 16,
   "outputs": [
    {
     "data": {
      "text/plain": "<AxesSubplot:xlabel='destination'>"
     },
     "execution_count": 16,
     "metadata": {},
     "output_type": "execute_result"
    },
    {
     "data": {
      "text/plain": "<Figure size 432x288 with 1 Axes>",
      "image/png": "[encoded data removed]"
     },
     "metadata": {
      "needs_background": "light"
     },
     "output_type": "display_data"
    }
   ],
   "source": [
    "data[['destination','price']].groupby(by='destination').sum().plot(kind='bar')"
   ],
   "metadata": {
    "collapsed": false,
    "pycharm": {
     "name": "#%%\n"
    }
   }
  },
  {
   "cell_type": "code",
   "execution_count": 17,
   "outputs": [
    {
     "data": {
      "text/plain": "<AxesSubplot:xlabel='source'>"
     },
     "execution_count": 17,
     "metadata": {},
     "output_type": "execute_result"
    },
    {
     "data": {
      "text/plain": "<Figure size 432x288 with 1 Axes>",
      "image/png": "[encoded data removed]"
     },
     "metadata": {
      "needs_background": "light"
     },
     "output_type": "display_data"
    }
   ],
   "source": [
    "data[['source','price']].groupby(by='source').sum().plot(kind='bar')"
   ],
   "metadata": {
    "collapsed": false,
    "pycharm": {
     "name": "#%%\n"
    }
   }
  },
  {
   "cell_type": "code",
   "execution_count": 18,
   "outputs": [
    {
     "data": {
      "text/plain": " Mostly cloudy throughout the day.                      139450\n Partly cloudy throughout the day.                      100542\n Light rain in the morning.                              70829\n Rain throughout the day.                                37434\n Light rain in the morning and overnight.                34846\n Rain until morning, starting again in the evening.      33204\n Foggy in the morning.                                   30837\n Light rain until evening.                               24528\n Overcast throughout the day.                             5243\n Possible drizzle in the morning.                         1250\n Rain in the morning and afternoon.                        360\nName: long_summary, dtype: int64"
     },
     "execution_count": 18,
     "metadata": {},
     "output_type": "execute_result"
    }
   ],
   "source": [
    "data['long_summary'].value_counts()"
   ],
   "metadata": {
    "collapsed": false,
    "pycharm": {
     "name": "#%%\n"
    }
   }
  },
  {
   "cell_type": "code",
   "execution_count": 19,
   "outputs": [
    {
     "data": {
      "text/plain": " Overcast             151110\n Mostly Cloudy        101184\n Partly Cloudy         87760\n Clear                 60108\n Light Rain            37822\n Rain                  16415\n Possible Drizzle      12860\n Foggy                  6207\n Drizzle                5057\nName: short_summary, dtype: int64"
     },
     "execution_count": 19,
     "metadata": {},
     "output_type": "execute_result"
    }
   ],
   "source": [
    "data['short_summary'].value_counts()"
   ],
   "metadata": {
    "collapsed": false,
    "pycharm": {
     "name": "#%%\n"
    }
   }
  },
  {
   "cell_type": "code",
   "execution_count": 20,
   "outputs": [
    {
     "data": {
      "text/plain": " cloudy                  151110\n partly-cloudy-night     109272\n partly-cloudy-day        79672\n rain                     72154\n clear-night              41664\n clear-day                18444\n fog                       6207\nName: icon, dtype: int64"
     },
     "execution_count": 20,
     "metadata": {},
     "output_type": "execute_result"
    }
   ],
   "source": [
    "data.icon.value_counts()"
   ],
   "metadata": {
    "collapsed": false,
    "pycharm": {
     "name": "#%%\n"
    }
   }
  },
  {
   "cell_type": "code",
   "execution_count": 21,
   "outputs": [
    {
     "data": {
      "text/plain": "      timestamp  hour  day  month             datetime              source  \\\n0  1.543564e+09     7   30     11  2018-11-30 07:47:56       North Station   \n1  1.544822e+09    21   14     12  2018-12-14 21:20:11            West End   \n2  1.543834e+09    10    3     12  2018-12-03 10:52:59    Theatre District   \n3  1.543759e+09    14    2     12  2018-12-02 14:03:04   Boston University   \n4  1.544973e+09    15   16     12  2018-12-16 15:05:17  Financial District   \n\n         destination cab_type       name  price  ...  precipIntensityMax  \\\n0      South Station     Lyft       Lyft    9.0  ...              0.0003   \n1      South Station     Uber  Black SUV   27.0  ...              0.0000   \n2  Boston University     Lyft     Shared   10.5  ...              0.0007   \n3           Back Bay     Uber      UberX    7.0  ...              0.0904   \n4          North End     Lyft       Lyft    7.0  ...              0.1252   \n\n   uvIndexTime  temperatureMin  temperatureMinTime  temperatureMax  \\\n0   1543593600           28.78          1543579200           42.64   \n1   1544806800           26.76          1544788800           46.90   \n2   1543852800           42.96          1543896000           57.87   \n3   1543770000           36.45          1543726800           50.73   \n4   1544979600           39.22          1544954400           43.83   \n\n   temperatureMaxTime  apparentTemperatureMin  apparentTemperatureMinTime  \\\n0          1543600800                   26.35                  1543575600   \n1          1544814000                   27.41                  1544788800   \n2          1543852800                   39.41                  1543896000   \n3          1543788000                   35.85                  1543748400   \n4          1544990400                   33.98                  1545019200   \n\n   apparentTemperatureMax  apparentTemperatureMaxTime  \n0                   40.61                  1543611600  \n1                   44.15                  1544817600  \n2                   57.20                  1543852800  \n3                   50.06                  1543788000  \n4                   38.38                  1544986800  \n\n[5 rows x 52 columns]",
      "text/html": "<div>\n<style scoped>\n    .dataframe tbody tr th:only-of-type {\n        vertical-align: middle;\n    }\n\n    .dataframe tbody tr th {\n        vertical-align: top;\n    }\n\n    .dataframe thead th {\n        text-align: right;\n    }\n</style>\n<table border=\"1\" class=\"dataframe\">\n  <thead>\n    <tr style=\"text-align: right;\">\n      <th></th>\n      <th>timestamp</th>\n      <th>hour</th>\n      <th>day</th>\n      <th>month</th>\n      <th>datetime</th>\n      <th>source</th>\n      <th>destination</th>\n      <th>cab_type</th>\n      <th>name</th>\n      <th>price</th>\n      <th>...</th>\n      <th>precipIntensityMax</th>\n      <th>uvIndexTime</th>\n      <th>temperatureMin</th>\n      <th>temperatureMinTime</th>\n      <th>temperatureMax</th>\n      <th>temperatureMaxTime</th>\n      <th>apparentTemperatureMin</th>\n      <th>apparentTemperatureMinTime</th>\n      <th>apparentTemperatureMax</th>\n      <th>apparentTemperatureMaxTime</th>\n    </tr>\n  </thead>\n  <tbody>\n    <tr>\n      <th>0</th>\n      <td>1.543564e+09</td>\n      <td>7</td>\n      <td>30</td>\n      <td>11</td>\n      <td>2018-11-30 07:47:56</td>\n      <td>North Station</td>\n      <td>South Station</td>\n      <td>Lyft</td>\n      <td>Lyft</td>\n      <td>9.0</td>\n      <td>...</td>\n      <td>0.0003</td>\n      <td>1543593600</td>\n      <td>28.78</td>\n      <td>1543579200</td>\n      <td>42.64</td>\n      <td>1543600800</td>\n      <td>26.35</td>\n      <td>1543575600</td>\n      <td>40.61</td>\n      <td>1543611600</td>\n    </tr>\n    <tr>\n      <th>1</th>\n      <td>1.544822e+09</td>\n      <td>21</td>\n      <td>14</td>\n      <td>12</td>\n      <td>2018-12-14 21:20:11</td>\n      <td>West End</td>\n      <td>South Station</td>\n      <td>Uber</td>\n      <td>Black SUV</td>\n      <td>27.0</td>\n      <td>...</td>\n      <td>0.0000</td>\n      <td>1544806800</td>\n      <td>26.76</td>\n      <td>1544788800</td>\n      <td>46.90</td>\n      <td>1544814000</td>\n      <td>27.41</td>\n      <td>1544788800</td>\n      <td>44.15</td>\n      <td>1544817600</td>\n    </tr>\n    <tr>\n      <th>2</th>\n      <td>1.543834e+09</td>\n      <td>10</td>\n      <td>3</td>\n      <td>12</td>\n      <td>2018-12-03 10:52:59</td>\n      <td>Theatre District</td>\n      <td>Boston University</td>\n      <td>Lyft</td>\n      <td>Shared</td>\n      <td>10.5</td>\n      <td>...</td>\n      <td>0.0007</td>\n      <td>1543852800</td>\n      <td>42.96</td>\n      <td>1543896000</td>\n      <td>57.87</td>\n      <td>1543852800</td>\n      <td>39.41</td>\n      <td>1543896000</td>\n      <td>57.20</td>\n      <td>1543852800</td>\n    </tr>\n    <tr>\n      <th>3</th>\n      <td>1.543759e+09</td>\n      <td>14</td>\n      <td>2</td>\n      <td>12</td>\n      <td>2018-12-02 14:03:04</td>\n      <td>Boston University</td>\n      <td>Back Bay</td>\n      <td>Uber</td>\n      <td>UberX</td>\n      <td>7.0</td>\n      <td>...</td>\n      <td>0.0904</td>\n      <td>1543770000</td>\n      <td>36.45</td>\n      <td>1543726800</td>\n      <td>50.73</td>\n      <td>1543788000</td>\n      <td>35.85</td>\n      <td>1543748400</td>\n      <td>50.06</td>\n      <td>1543788000</td>\n    </tr>\n    <tr>\n      <th>4</th>\n      <td>1.544973e+09</td>\n      <td>15</td>\n      <td>16</td>\n      <td>12</td>\n      <td>2018-12-16 15:05:17</td>\n      <td>Financial District</td>\n      <td>North End</td>\n      <td>Lyft</td>\n      <td>Lyft</td>\n      <td>7.0</td>\n      <td>...</td>\n      <td>0.1252</td>\n      <td>1544979600</td>\n      <td>39.22</td>\n      <td>1544954400</td>\n      <td>43.83</td>\n      <td>1544990400</td>\n      <td>33.98</td>\n      <td>1545019200</td>\n      <td>38.38</td>\n      <td>1544986800</td>\n    </tr>\n  </tbody>\n</table>\n<p>5 rows × 52 columns</p>\n</div>"
     },
     "execution_count": 21,
     "metadata": {},
     "output_type": "execute_result"
    }
   ],
   "source": [
    "#выбрасываем long summary и short_summary, оставляем icon\n",
    "data.drop(['long_summary','short_summary'], axis=1, inplace=True)\n",
    "data.head()"
   ],
   "metadata": {
    "collapsed": false,
    "pycharm": {
     "name": "#%%\n"
    }
   }
  },
  {
   "cell_type": "code",
   "execution_count": 22,
   "outputs": [
    {
     "data": {
      "text/plain": "1.00    462777\n1.25      8364\n1.50      3779\n1.75      1803\n2.00      1665\n2.50       123\n3.00        12\nName: surge_multiplier, dtype: int64"
     },
     "execution_count": 22,
     "metadata": {},
     "output_type": "execute_result"
    }
   ],
   "source": [
    "data['surge_multiplier'].value_counts()"
   ],
   "metadata": {
    "collapsed": false,
    "pycharm": {
     "name": "#%%\n"
    }
   }
  },
  {
   "cell_type": "code",
   "execution_count": 23,
   "outputs": [],
   "source": [
    "#категориальные переменные\n",
    "cat_cols=['cab_type','icon','name']"
   ],
   "metadata": {
    "collapsed": false,
    "pycharm": {
     "name": "#%%\n"
    }
   }
  },
  {
   "cell_type": "code",
   "execution_count": 24,
   "outputs": [
    {
     "data": {
      "text/plain": "      timestamp  hour  day  month             datetime              source  \\\n0  1.543564e+09     7   30     11  2018-11-30 07:47:56       North Station   \n1  1.544822e+09    21   14     12  2018-12-14 21:20:11            West End   \n2  1.543834e+09    10    3     12  2018-12-03 10:52:59    Theatre District   \n3  1.543759e+09    14    2     12  2018-12-02 14:03:04   Boston University   \n4  1.544973e+09    15   16     12  2018-12-16 15:05:17  Financial District   \n\n         destination  cab_type  name  price  ...  precipIntensityMax  \\\n0      South Station         1     1    9.0  ...              0.0003   \n1      South Station         2     2   27.0  ...              0.0000   \n2  Boston University         1     3   10.5  ...              0.0007   \n3           Back Bay         2     4    7.0  ...              0.0904   \n4          North End         1     1    7.0  ...              0.1252   \n\n   uvIndexTime  temperatureMin  temperatureMinTime  temperatureMax  \\\n0   1543593600           28.78          1543579200           42.64   \n1   1544806800           26.76          1544788800           46.90   \n2   1543852800           42.96          1543896000           57.87   \n3   1543770000           36.45          1543726800           50.73   \n4   1544979600           39.22          1544954400           43.83   \n\n   temperatureMaxTime  apparentTemperatureMin  apparentTemperatureMinTime  \\\n0          1543600800                   26.35                  1543575600   \n1          1544814000                   27.41                  1544788800   \n2          1543852800                   39.41                  1543896000   \n3          1543788000                   35.85                  1543748400   \n4          1544990400                   33.98                  1545019200   \n\n   apparentTemperatureMax  apparentTemperatureMaxTime  \n0                   40.61                  1543611600  \n1                   44.15                  1544817600  \n2                   57.20                  1543852800  \n3                   50.06                  1543788000  \n4                   38.38                  1544986800  \n\n[5 rows x 52 columns]",
      "text/html": "<div>\n<style scoped>\n    .dataframe tbody tr th:only-of-type {\n        vertical-align: middle;\n    }\n\n    .dataframe tbody tr th {\n        vertical-align: top;\n    }\n\n    .dataframe thead th {\n        text-align: right;\n    }\n</style>\n<table border=\"1\" class=\"dataframe\">\n  <thead>\n    <tr style=\"text-align: right;\">\n      <th></th>\n      <th>timestamp</th>\n      <th>hour</th>\n      <th>day</th>\n      <th>month</th>\n      <th>datetime</th>\n      <th>source</th>\n      <th>destination</th>\n      <th>cab_type</th>\n      <th>name</th>\n      <th>price</th>\n      <th>...</th>\n      <th>precipIntensityMax</th>\n      <th>uvIndexTime</th>\n      <th>temperatureMin</th>\n      <th>temperatureMinTime</th>\n      <th>temperatureMax</th>\n      <th>temperatureMaxTime</th>\n      <th>apparentTemperatureMin</th>\n      <th>apparentTemperatureMinTime</th>\n      <th>apparentTemperatureMax</th>\n      <th>apparentTemperatureMaxTime</th>\n    </tr>\n  </thead>\n  <tbody>\n    <tr>\n      <th>0</th>\n      <td>1.543564e+09</td>\n      <td>7</td>\n      <td>30</td>\n      <td>11</td>\n      <td>2018-11-30 07:47:56</td>\n      <td>North Station</td>\n      <td>South Station</td>\n      <td>1</td>\n      <td>1</td>\n      <td>9.0</td>\n      <td>...</td>\n      <td>0.0003</td>\n      <td>1543593600</td>\n      <td>28.78</td>\n      <td>1543579200</td>\n      <td>42.64</td>\n      <td>1543600800</td>\n      <td>26.35</td>\n      <td>1543575600</td>\n      <td>40.61</td>\n      <td>1543611600</td>\n    </tr>\n    <tr>\n      <th>1</th>\n      <td>1.544822e+09</td>\n      <td>21</td>\n      <td>14</td>\n      <td>12</td>\n      <td>2018-12-14 21:20:11</td>\n      <td>West End</td>\n      <td>South Station</td>\n      <td>2</td>\n      <td>2</td>\n      <td>27.0</td>\n      <td>...</td>\n      <td>0.0000</td>\n      <td>1544806800</td>\n      <td>26.76</td>\n      <td>1544788800</td>\n      <td>46.90</td>\n      <td>1544814000</td>\n      <td>27.41</td>\n      <td>1544788800</td>\n      <td>44.15</td>\n      <td>1544817600</td>\n    </tr>\n    <tr>\n      <th>2</th>\n      <td>1.543834e+09</td>\n      <td>10</td>\n      <td>3</td>\n      <td>12</td>\n      <td>2018-12-03 10:52:59</td>\n      <td>Theatre District</td>\n      <td>Boston University</td>\n      <td>1</td>\n      <td>3</td>\n      <td>10.5</td>\n      <td>...</td>\n      <td>0.0007</td>\n      <td>1543852800</td>\n      <td>42.96</td>\n      <td>1543896000</td>\n      <td>57.87</td>\n      <td>1543852800</td>\n      <td>39.41</td>\n      <td>1543896000</td>\n      <td>57.20</td>\n      <td>1543852800</td>\n    </tr>\n    <tr>\n      <th>3</th>\n      <td>1.543759e+09</td>\n      <td>14</td>\n      <td>2</td>\n      <td>12</td>\n      <td>2018-12-02 14:03:04</td>\n      <td>Boston University</td>\n      <td>Back Bay</td>\n      <td>2</td>\n      <td>4</td>\n      <td>7.0</td>\n      <td>...</td>\n      <td>0.0904</td>\n      <td>1543770000</td>\n      <td>36.45</td>\n      <td>1543726800</td>\n      <td>50.73</td>\n      <td>1543788000</td>\n      <td>35.85</td>\n      <td>1543748400</td>\n      <td>50.06</td>\n      <td>1543788000</td>\n    </tr>\n    <tr>\n      <th>4</th>\n      <td>1.544973e+09</td>\n      <td>15</td>\n      <td>16</td>\n      <td>12</td>\n      <td>2018-12-16 15:05:17</td>\n      <td>Financial District</td>\n      <td>North End</td>\n      <td>1</td>\n      <td>1</td>\n      <td>7.0</td>\n      <td>...</td>\n      <td>0.1252</td>\n      <td>1544979600</td>\n      <td>39.22</td>\n      <td>1544954400</td>\n      <td>43.83</td>\n      <td>1544990400</td>\n      <td>33.98</td>\n      <td>1545019200</td>\n      <td>38.38</td>\n      <td>1544986800</td>\n    </tr>\n  </tbody>\n</table>\n<p>5 rows × 52 columns</p>\n</div>"
     },
     "execution_count": 24,
     "metadata": {},
     "output_type": "execute_result"
    }
   ],
   "source": [
    "#сделаем порядковый encoding для категориальных переменных\n",
    "import category_encoders as ce\n",
    "\n",
    "ord_enc = ce.OrdinalEncoder(cols=cat_cols).fit(data)\n",
    "data=ord_enc.transform(data)\n",
    "data.head()"
   ],
   "metadata": {
    "collapsed": false,
    "pycharm": {
     "name": "#%%\n"
    }
   }
  },
  {
   "cell_type": "code",
   "execution_count": 25,
   "outputs": [],
   "source": [
    "#закодируем source и destination так, чтобы одинаковым названиям соответствовали одинаковые числа\n",
    "source_names=data['source'].value_counts().index"
   ],
   "metadata": {
    "collapsed": false,
    "pycharm": {
     "name": "#%%\n"
    }
   }
  },
  {
   "cell_type": "code",
   "execution_count": 26,
   "outputs": [
    {
     "data": {
      "text/plain": "{'Financial District': 0,\n 'South Station': 1,\n 'Haymarket Square': 2,\n 'North End': 3,\n 'Back Bay': 4,\n 'Boston University': 5,\n 'Fenway': 6,\n 'West End': 7,\n 'Northeastern University': 8,\n 'Beacon Hill': 9,\n 'Theatre District': 10,\n 'North Station': 11}"
     },
     "execution_count": 26,
     "metadata": {},
     "output_type": "execute_result"
    }
   ],
   "source": [
    "#создаем кодировщик для мест поездок\n",
    "source_dict=dict()\n",
    "for i, name in enumerate(source_names):\n",
    "    source_dict[name]=i\n",
    "\n",
    "source_dict"
   ],
   "metadata": {
    "collapsed": false,
    "pycharm": {
     "name": "#%%\n"
    }
   }
  },
  {
   "cell_type": "code",
   "execution_count": 27,
   "outputs": [],
   "source": [
    "data['source']=data['source'].map(source_dict)\n",
    "data.dropna(inplace=True)"
   ],
   "metadata": {
    "collapsed": false,
    "pycharm": {
     "name": "#%%\n"
    }
   }
  },
  {
   "cell_type": "code",
   "execution_count": 28,
   "outputs": [
    {
     "data": {
      "text/plain": "0         11\n1          7\n2         10\n3          5\n4          0\n          ..\n519798     3\n519799     5\n519800     2\n519801     7\n519802     6\nName: source, Length: 478523, dtype: int64"
     },
     "execution_count": 28,
     "metadata": {},
     "output_type": "execute_result"
    }
   ],
   "source": [
    "data['source']"
   ],
   "metadata": {
    "collapsed": false,
    "pycharm": {
     "name": "#%%\n"
    }
   }
  },
  {
   "cell_type": "code",
   "execution_count": 29,
   "outputs": [],
   "source": [
    "data['destination']=data['destination'].map(source_dict)\n",
    "data.dropna(inplace=True)"
   ],
   "metadata": {
    "collapsed": false,
    "pycharm": {
     "name": "#%%\n"
    }
   }
  },
  {
   "cell_type": "code",
   "execution_count": 30,
   "outputs": [
    {
     "data": {
      "text/plain": "0          1\n1          1\n2          5\n3          4\n4          3\n          ..\n519798     9\n519799    10\n519800     4\n519801     6\n519802     9\nName: destination, Length: 478523, dtype: int64"
     },
     "execution_count": 30,
     "metadata": {},
     "output_type": "execute_result"
    }
   ],
   "source": [
    "data['destination']"
   ],
   "metadata": {
    "collapsed": false,
    "pycharm": {
     "name": "#%%\n"
    }
   }
  },
  {
   "cell_type": "code",
   "execution_count": 31,
   "outputs": [
    {
     "data": {
      "text/plain": "Index(['timestamp', 'hour', 'day', 'month', 'datetime', 'source',\n       'destination', 'cab_type', 'name', 'price', 'distance',\n       'surge_multiplier', 'latitude', 'longitude', 'temperature',\n       'apparentTemperature', 'precipIntensity', 'precipProbability',\n       'humidity', 'windSpeed', 'windGust', 'windGustTime', 'visibility',\n       'temperatureHigh', 'temperatureHighTime', 'temperatureLow',\n       'temperatureLowTime', 'apparentTemperatureHigh',\n       'apparentTemperatureHighTime', 'apparentTemperatureLow',\n       'apparentTemperatureLowTime', 'icon', 'dewPoint', 'pressure',\n       'windBearing', 'cloudCover', 'uvIndex', 'visibility.1', 'ozone',\n       'sunriseTime', 'sunsetTime', 'moonPhase', 'precipIntensityMax',\n       'uvIndexTime', 'temperatureMin', 'temperatureMinTime', 'temperatureMax',\n       'temperatureMaxTime', 'apparentTemperatureMin',\n       'apparentTemperatureMinTime', 'apparentTemperatureMax',\n       'apparentTemperatureMaxTime'],\n      dtype='object')"
     },
     "execution_count": 31,
     "metadata": {},
     "output_type": "execute_result"
    }
   ],
   "source": [
    "data.columns"
   ],
   "metadata": {
    "collapsed": false,
    "pycharm": {
     "name": "#%%\n"
    }
   }
  },
  {
   "cell_type": "code",
   "execution_count": 32,
   "outputs": [
    {
     "data": {
      "text/plain": "      timestamp  hour  day  month            datetime  source  destination  \\\n0  1.543564e+09     7   30     11 2018-11-30 07:47:56      11            1   \n1  1.544822e+09    21   14     12 2018-12-14 21:20:11       7            1   \n2  1.543834e+09    10    3     12 2018-12-03 10:52:59      10            5   \n3  1.543759e+09    14    2     12 2018-12-02 14:03:04       5            4   \n4  1.544973e+09    15   16     12 2018-12-16 15:05:17       0            3   \n\n   cab_type  name  price  ...  uvIndexTime  temperatureMin  \\\n0         1     1    9.0  ...   1543593600           28.78   \n1         2     2   27.0  ...   1544806800           26.76   \n2         1     3   10.5  ...   1543852800           42.96   \n3         2     4    7.0  ...   1543770000           36.45   \n4         1     1    7.0  ...   1544979600           39.22   \n\n   temperatureMinTime  temperatureMax  temperatureMaxTime  \\\n0          1543579200           42.64          1543600800   \n1          1544788800           46.90          1544814000   \n2          1543896000           57.87          1543852800   \n3          1543726800           50.73          1543788000   \n4          1544954400           43.83          1544990400   \n\n   apparentTemperatureMin  apparentTemperatureMinTime  apparentTemperatureMax  \\\n0                   26.35                  1543575600                   40.61   \n1                   27.41                  1544788800                   44.15   \n2                   39.41                  1543896000                   57.20   \n3                   35.85                  1543748400                   50.06   \n4                   33.98                  1545019200                   38.38   \n\n   apparentTemperatureMaxTime  weekday  \n0                  1543611600        4  \n1                  1544817600        4  \n2                  1543852800        0  \n3                  1543788000        6  \n4                  1544986800        6  \n\n[5 rows x 53 columns]",
      "text/html": "<div>\n<style scoped>\n    .dataframe tbody tr th:only-of-type {\n        vertical-align: middle;\n    }\n\n    .dataframe tbody tr th {\n        vertical-align: top;\n    }\n\n    .dataframe thead th {\n        text-align: right;\n    }\n</style>\n<table border=\"1\" class=\"dataframe\">\n  <thead>\n    <tr style=\"text-align: right;\">\n      <th></th>\n      <th>timestamp</th>\n      <th>hour</th>\n      <th>day</th>\n      <th>month</th>\n      <th>datetime</th>\n      <th>source</th>\n      <th>destination</th>\n      <th>cab_type</th>\n      <th>name</th>\n      <th>price</th>\n      <th>...</th>\n      <th>uvIndexTime</th>\n      <th>temperatureMin</th>\n      <th>temperatureMinTime</th>\n      <th>temperatureMax</th>\n      <th>temperatureMaxTime</th>\n      <th>apparentTemperatureMin</th>\n      <th>apparentTemperatureMinTime</th>\n      <th>apparentTemperatureMax</th>\n      <th>apparentTemperatureMaxTime</th>\n      <th>weekday</th>\n    </tr>\n  </thead>\n  <tbody>\n    <tr>\n      <th>0</th>\n      <td>1.543564e+09</td>\n      <td>7</td>\n      <td>30</td>\n      <td>11</td>\n      <td>2018-11-30 07:47:56</td>\n      <td>11</td>\n      <td>1</td>\n      <td>1</td>\n      <td>1</td>\n      <td>9.0</td>\n      <td>...</td>\n      <td>1543593600</td>\n      <td>28.78</td>\n      <td>1543579200</td>\n      <td>42.64</td>\n      <td>1543600800</td>\n      <td>26.35</td>\n      <td>1543575600</td>\n      <td>40.61</td>\n      <td>1543611600</td>\n      <td>4</td>\n    </tr>\n    <tr>\n      <th>1</th>\n      <td>1.544822e+09</td>\n      <td>21</td>\n      <td>14</td>\n      <td>12</td>\n      <td>2018-12-14 21:20:11</td>\n      <td>7</td>\n      <td>1</td>\n      <td>2</td>\n      <td>2</td>\n      <td>27.0</td>\n      <td>...</td>\n      <td>1544806800</td>\n      <td>26.76</td>\n      <td>1544788800</td>\n      <td>46.90</td>\n      <td>1544814000</td>\n      <td>27.41</td>\n      <td>1544788800</td>\n      <td>44.15</td>\n      <td>1544817600</td>\n      <td>4</td>\n    </tr>\n    <tr>\n      <th>2</th>\n      <td>1.543834e+09</td>\n      <td>10</td>\n      <td>3</td>\n      <td>12</td>\n      <td>2018-12-03 10:52:59</td>\n      <td>10</td>\n      <td>5</td>\n      <td>1</td>\n      <td>3</td>\n      <td>10.5</td>\n      <td>...</td>\n      <td>1543852800</td>\n      <td>42.96</td>\n      <td>1543896000</td>\n      <td>57.87</td>\n      <td>1543852800</td>\n      <td>39.41</td>\n      <td>1543896000</td>\n      <td>57.20</td>\n      <td>1543852800</td>\n      <td>0</td>\n    </tr>\n    <tr>\n      <th>3</th>\n      <td>1.543759e+09</td>\n      <td>14</td>\n      <td>2</td>\n      <td>12</td>\n      <td>2018-12-02 14:03:04</td>\n      <td>5</td>\n      <td>4</td>\n      <td>2</td>\n      <td>4</td>\n      <td>7.0</td>\n      <td>...</td>\n      <td>1543770000</td>\n      <td>36.45</td>\n      <td>1543726800</td>\n      <td>50.73</td>\n      <td>1543788000</td>\n      <td>35.85</td>\n      <td>1543748400</td>\n      <td>50.06</td>\n      <td>1543788000</td>\n      <td>6</td>\n    </tr>\n    <tr>\n      <th>4</th>\n      <td>1.544973e+09</td>\n      <td>15</td>\n      <td>16</td>\n      <td>12</td>\n      <td>2018-12-16 15:05:17</td>\n      <td>0</td>\n      <td>3</td>\n      <td>1</td>\n      <td>1</td>\n      <td>7.0</td>\n      <td>...</td>\n      <td>1544979600</td>\n      <td>39.22</td>\n      <td>1544954400</td>\n      <td>43.83</td>\n      <td>1544990400</td>\n      <td>33.98</td>\n      <td>1545019200</td>\n      <td>38.38</td>\n      <td>1544986800</td>\n      <td>6</td>\n    </tr>\n  </tbody>\n</table>\n<p>5 rows × 53 columns</p>\n</div>"
     },
     "execution_count": 32,
     "metadata": {},
     "output_type": "execute_result"
    }
   ],
   "source": [
    "#преобразуем тип даты в datetime и добавим новый признак - день недели\n",
    "data['datetime']=pd.to_datetime(data['datetime'])\n",
    "data['weekday']=data['datetime'].dt.weekday\n",
    "data.head()"
   ],
   "metadata": {
    "collapsed": false,
    "pycharm": {
     "name": "#%%\n"
    }
   }
  },
  {
   "cell_type": "code",
   "execution_count": 33,
   "outputs": [],
   "source": [
    "#выбрасываем столбец datetime и номер дня, так как скорее для прогноза будет важен час суток, месяц и день недели\n",
    "data.drop(['datetime','day'],axis=1, inplace=True)"
   ],
   "metadata": {
    "collapsed": false,
    "pycharm": {
     "name": "#%%\n"
    }
   }
  },
  {
   "cell_type": "markdown",
   "source": [
    "# Рассмотрим столбцы с apparent... с min/max и с low/high"
   ],
   "metadata": {
    "collapsed": false,
    "pycharm": {
     "name": "#%% md\n"
    }
   }
  },
  {
   "cell_type": "code",
   "execution_count": 34,
   "outputs": [
    {
     "data": {
      "text/plain": "<seaborn.axisgrid.PairGrid at 0x2748ff46700>"
     },
     "execution_count": 34,
     "metadata": {},
     "output_type": "execute_result"
    },
    {
     "data": {
      "text/plain": "<Figure size 360x360 with 6 Axes>",
      "image/png": "[encoded data removed]"
     },
     "metadata": {
      "needs_background": "light"
     },
     "output_type": "display_data"
    }
   ],
   "source": [
    "#некоторые признаки дублируют информацию, поэтому их можно удалить\n",
    "sns.pairplot(data[['temperatureMax','temperatureHigh']])"
   ],
   "metadata": {
    "collapsed": false,
    "pycharm": {
     "name": "#%%\n"
    }
   }
  },
  {
   "cell_type": "code",
   "execution_count": 35,
   "outputs": [
    {
     "data": {
      "text/plain": "                         apparentTemperatureHigh  apparentTemperatureMax\napparentTemperatureHigh                 1.000000                0.974187\napparentTemperatureMax                  0.974187                1.000000",
      "text/html": "<div>\n<style scoped>\n    .dataframe tbody tr th:only-of-type {\n        vertical-align: middle;\n    }\n\n    .dataframe tbody tr th {\n        vertical-align: top;\n    }\n\n    .dataframe thead th {\n        text-align: right;\n    }\n</style>\n<table border=\"1\" class=\"dataframe\">\n  <thead>\n    <tr style=\"text-align: right;\">\n      <th></th>\n      <th>apparentTemperatureHigh</th>\n      <th>apparentTemperatureMax</th>\n    </tr>\n  </thead>\n  <tbody>\n    <tr>\n      <th>apparentTemperatureHigh</th>\n      <td>1.000000</td>\n      <td>0.974187</td>\n    </tr>\n    <tr>\n      <th>apparentTemperatureMax</th>\n      <td>0.974187</td>\n      <td>1.000000</td>\n    </tr>\n  </tbody>\n</table>\n</div>"
     },
     "execution_count": 35,
     "metadata": {},
     "output_type": "execute_result"
    }
   ],
   "source": [
    "data[['apparentTemperatureHigh','apparentTemperatureMax']].corr()"
   ],
   "metadata": {
    "collapsed": false,
    "pycharm": {
     "name": "#%%\n"
    }
   }
  },
  {
   "cell_type": "code",
   "execution_count": 36,
   "outputs": [],
   "source": [
    "#удаляем столбцы temperatureHigh и apparentTemperatureHigh так как они практически идентичны с temperatureMax и apparentTemperatureMax\n",
    "data.drop(['temperatureHigh','apparentTemperatureHigh'],axis=1,inplace=True)"
   ],
   "metadata": {
    "collapsed": false,
    "pycharm": {
     "name": "#%%\n"
    }
   }
  },
  {
   "cell_type": "code",
   "execution_count": 37,
   "outputs": [
    {
     "data": {
      "text/plain": "                     temperatureHighTime  temperatureMaxTime\ntemperatureHighTime             1.000000            0.999884\ntemperatureMaxTime              0.999884            1.000000",
      "text/html": "<div>\n<style scoped>\n    .dataframe tbody tr th:only-of-type {\n        vertical-align: middle;\n    }\n\n    .dataframe tbody tr th {\n        vertical-align: top;\n    }\n\n    .dataframe thead th {\n        text-align: right;\n    }\n</style>\n<table border=\"1\" class=\"dataframe\">\n  <thead>\n    <tr style=\"text-align: right;\">\n      <th></th>\n      <th>temperatureHighTime</th>\n      <th>temperatureMaxTime</th>\n    </tr>\n  </thead>\n  <tbody>\n    <tr>\n      <th>temperatureHighTime</th>\n      <td>1.000000</td>\n      <td>0.999884</td>\n    </tr>\n    <tr>\n      <th>temperatureMaxTime</th>\n      <td>0.999884</td>\n      <td>1.000000</td>\n    </tr>\n  </tbody>\n</table>\n</div>"
     },
     "execution_count": 37,
     "metadata": {},
     "output_type": "execute_result"
    }
   ],
   "source": [
    "#аналогично со временем\n",
    "data[['temperatureHighTime','temperatureMaxTime']].corr()"
   ],
   "metadata": {
    "collapsed": false,
    "pycharm": {
     "name": "#%%\n"
    }
   }
  },
  {
   "cell_type": "code",
   "execution_count": 38,
   "outputs": [
    {
     "data": {
      "text/plain": "                             apparentTemperatureHighTime  \\\napparentTemperatureHighTime                       1.0000   \napparentTemperatureMaxTime                        0.9999   \n\n                             apparentTemperatureMaxTime  \napparentTemperatureHighTime                      0.9999  \napparentTemperatureMaxTime                       1.0000  ",
      "text/html": "<div>\n<style scoped>\n    .dataframe tbody tr th:only-of-type {\n        vertical-align: middle;\n    }\n\n    .dataframe tbody tr th {\n        vertical-align: top;\n    }\n\n    .dataframe thead th {\n        text-align: right;\n    }\n</style>\n<table border=\"1\" class=\"dataframe\">\n  <thead>\n    <tr style=\"text-align: right;\">\n      <th></th>\n      <th>apparentTemperatureHighTime</th>\n      <th>apparentTemperatureMaxTime</th>\n    </tr>\n  </thead>\n  <tbody>\n    <tr>\n      <th>apparentTemperatureHighTime</th>\n      <td>1.0000</td>\n      <td>0.9999</td>\n    </tr>\n    <tr>\n      <th>apparentTemperatureMaxTime</th>\n      <td>0.9999</td>\n      <td>1.0000</td>\n    </tr>\n  </tbody>\n</table>\n</div>"
     },
     "execution_count": 38,
     "metadata": {},
     "output_type": "execute_result"
    }
   ],
   "source": [
    "data[['apparentTemperatureHighTime','apparentTemperatureMaxTime']].corr()"
   ],
   "metadata": {
    "collapsed": false,
    "pycharm": {
     "name": "#%%\n"
    }
   }
  },
  {
   "cell_type": "code",
   "execution_count": 39,
   "outputs": [],
   "source": [
    "data.drop(['temperatureHighTime','apparentTemperatureHighTime'],axis=1,inplace=True)"
   ],
   "metadata": {
    "collapsed": false,
    "pycharm": {
     "name": "#%%\n"
    }
   }
  },
  {
   "cell_type": "code",
   "execution_count": 40,
   "outputs": [
    {
     "data": {
      "text/plain": "                temperatureMin  temperatureLow\ntemperatureMin         1.00000         0.47395\ntemperatureLow         0.47395         1.00000",
      "text/html": "<div>\n<style scoped>\n    .dataframe tbody tr th:only-of-type {\n        vertical-align: middle;\n    }\n\n    .dataframe tbody tr th {\n        vertical-align: top;\n    }\n\n    .dataframe thead th {\n        text-align: right;\n    }\n</style>\n<table border=\"1\" class=\"dataframe\">\n  <thead>\n    <tr style=\"text-align: right;\">\n      <th></th>\n      <th>temperatureMin</th>\n      <th>temperatureLow</th>\n    </tr>\n  </thead>\n  <tbody>\n    <tr>\n      <th>temperatureMin</th>\n      <td>1.00000</td>\n      <td>0.47395</td>\n    </tr>\n    <tr>\n      <th>temperatureLow</th>\n      <td>0.47395</td>\n      <td>1.00000</td>\n    </tr>\n  </tbody>\n</table>\n</div>"
     },
     "execution_count": 40,
     "metadata": {},
     "output_type": "execute_result"
    }
   ],
   "source": [
    "#про нижнюю температуру такого не скажешь, её оставляем\n",
    "data[['temperatureMin','temperatureLow']].corr()"
   ],
   "metadata": {
    "collapsed": false,
    "pycharm": {
     "name": "#%%\n"
    }
   }
  },
  {
   "cell_type": "code",
   "execution_count": 41,
   "outputs": [
    {
     "data": {
      "text/plain": "<seaborn.axisgrid.PairGrid at 0x274d1457310>"
     },
     "execution_count": 41,
     "metadata": {},
     "output_type": "execute_result"
    },
    {
     "data": {
      "text/plain": "<Figure size 360x360 with 6 Axes>",
      "image/png": "[encoded data removed]"
     },
     "metadata": {
      "needs_background": "light"
     },
     "output_type": "display_data"
    }
   ],
   "source": [
    "sns.pairplot(data[['temperatureMin','temperatureLow']])"
   ],
   "metadata": {
    "collapsed": false,
    "pycharm": {
     "name": "#%%\n"
    }
   }
  },
  {
   "cell_type": "code",
   "execution_count": 42,
   "outputs": [
    {
     "data": {
      "text/plain": "                        apparentTemperatureMin  apparentTemperatureLow\napparentTemperatureMin                 1.00000                 0.47984\napparentTemperatureLow                 0.47984                 1.00000",
      "text/html": "<div>\n<style scoped>\n    .dataframe tbody tr th:only-of-type {\n        vertical-align: middle;\n    }\n\n    .dataframe tbody tr th {\n        vertical-align: top;\n    }\n\n    .dataframe thead th {\n        text-align: right;\n    }\n</style>\n<table border=\"1\" class=\"dataframe\">\n  <thead>\n    <tr style=\"text-align: right;\">\n      <th></th>\n      <th>apparentTemperatureMin</th>\n      <th>apparentTemperatureLow</th>\n    </tr>\n  </thead>\n  <tbody>\n    <tr>\n      <th>apparentTemperatureMin</th>\n      <td>1.00000</td>\n      <td>0.47984</td>\n    </tr>\n    <tr>\n      <th>apparentTemperatureLow</th>\n      <td>0.47984</td>\n      <td>1.00000</td>\n    </tr>\n  </tbody>\n</table>\n</div>"
     },
     "execution_count": 42,
     "metadata": {},
     "output_type": "execute_result"
    }
   ],
   "source": [
    "data[['apparentTemperatureMin','apparentTemperatureLow']].corr()"
   ],
   "metadata": {
    "collapsed": false,
    "pycharm": {
     "name": "#%%\n"
    }
   }
  },
  {
   "cell_type": "code",
   "execution_count": 43,
   "outputs": [
    {
     "data": {
      "text/plain": "                    temperatureLowTime  temperatureMinTime\ntemperatureLowTime            1.000000            0.999147\ntemperatureMinTime            0.999147            1.000000",
      "text/html": "<div>\n<style scoped>\n    .dataframe tbody tr th:only-of-type {\n        vertical-align: middle;\n    }\n\n    .dataframe tbody tr th {\n        vertical-align: top;\n    }\n\n    .dataframe thead th {\n        text-align: right;\n    }\n</style>\n<table border=\"1\" class=\"dataframe\">\n  <thead>\n    <tr style=\"text-align: right;\">\n      <th></th>\n      <th>temperatureLowTime</th>\n      <th>temperatureMinTime</th>\n    </tr>\n  </thead>\n  <tbody>\n    <tr>\n      <th>temperatureLowTime</th>\n      <td>1.000000</td>\n      <td>0.999147</td>\n    </tr>\n    <tr>\n      <th>temperatureMinTime</th>\n      <td>0.999147</td>\n      <td>1.000000</td>\n    </tr>\n  </tbody>\n</table>\n</div>"
     },
     "execution_count": 43,
     "metadata": {},
     "output_type": "execute_result"
    }
   ],
   "source": [
    "#время для нижней температуры хорошо коррелирует, удаляем temperatureLowTime\n",
    "data[['temperatureLowTime','temperatureMinTime']].corr()"
   ],
   "metadata": {
    "collapsed": false,
    "pycharm": {
     "name": "#%%\n"
    }
   }
  },
  {
   "cell_type": "code",
   "execution_count": 44,
   "outputs": [
    {
     "data": {
      "text/plain": "                            apparentTemperatureLowTime  \\\napparentTemperatureLowTime                    1.000000   \napparentTemperatureMinTime                    0.999083   \n\n                            apparentTemperatureMinTime  \napparentTemperatureLowTime                    0.999083  \napparentTemperatureMinTime                    1.000000  ",
      "text/html": "<div>\n<style scoped>\n    .dataframe tbody tr th:only-of-type {\n        vertical-align: middle;\n    }\n\n    .dataframe tbody tr th {\n        vertical-align: top;\n    }\n\n    .dataframe thead th {\n        text-align: right;\n    }\n</style>\n<table border=\"1\" class=\"dataframe\">\n  <thead>\n    <tr style=\"text-align: right;\">\n      <th></th>\n      <th>apparentTemperatureLowTime</th>\n      <th>apparentTemperatureMinTime</th>\n    </tr>\n  </thead>\n  <tbody>\n    <tr>\n      <th>apparentTemperatureLowTime</th>\n      <td>1.000000</td>\n      <td>0.999083</td>\n    </tr>\n    <tr>\n      <th>apparentTemperatureMinTime</th>\n      <td>0.999083</td>\n      <td>1.000000</td>\n    </tr>\n  </tbody>\n</table>\n</div>"
     },
     "execution_count": 44,
     "metadata": {},
     "output_type": "execute_result"
    }
   ],
   "source": [
    "data[['apparentTemperatureLowTime','apparentTemperatureMinTime']].corr()"
   ],
   "metadata": {
    "collapsed": false,
    "pycharm": {
     "name": "#%%\n"
    }
   }
  },
  {
   "cell_type": "code",
   "execution_count": 45,
   "outputs": [],
   "source": [
    "data.drop(['temperatureLowTime','apparentTemperatureLowTime'],axis=1,inplace=True)"
   ],
   "metadata": {
    "collapsed": false,
    "pycharm": {
     "name": "#%%\n"
    }
   }
  },
  {
   "cell_type": "code",
   "execution_count": 46,
   "outputs": [
    {
     "data": {
      "text/plain": "                        temperatureMax  apparentTemperatureMax\ntemperatureMax                1.000000                0.956221\napparentTemperatureMax        0.956221                1.000000",
      "text/html": "<div>\n<style scoped>\n    .dataframe tbody tr th:only-of-type {\n        vertical-align: middle;\n    }\n\n    .dataframe tbody tr th {\n        vertical-align: top;\n    }\n\n    .dataframe thead th {\n        text-align: right;\n    }\n</style>\n<table border=\"1\" class=\"dataframe\">\n  <thead>\n    <tr style=\"text-align: right;\">\n      <th></th>\n      <th>temperatureMax</th>\n      <th>apparentTemperatureMax</th>\n    </tr>\n  </thead>\n  <tbody>\n    <tr>\n      <th>temperatureMax</th>\n      <td>1.000000</td>\n      <td>0.956221</td>\n    </tr>\n    <tr>\n      <th>apparentTemperatureMax</th>\n      <td>0.956221</td>\n      <td>1.000000</td>\n    </tr>\n  </tbody>\n</table>\n</div>"
     },
     "execution_count": 46,
     "metadata": {},
     "output_type": "execute_result"
    }
   ],
   "source": [
    "# проверим корреляцию между temperatureMax и apparentTemperatureMax\n",
    "data[['temperatureMax','apparentTemperatureMax']].corr()"
   ],
   "metadata": {
    "collapsed": false,
    "pycharm": {
     "name": "#%%\n"
    }
   }
  },
  {
   "cell_type": "code",
   "execution_count": 47,
   "outputs": [
    {
     "data": {
      "text/plain": "                            temperatureMaxTime  apparentTemperatureMaxTime\ntemperatureMaxTime                    1.000000                    0.999959\napparentTemperatureMaxTime            0.999959                    1.000000",
      "text/html": "<div>\n<style scoped>\n    .dataframe tbody tr th:only-of-type {\n        vertical-align: middle;\n    }\n\n    .dataframe tbody tr th {\n        vertical-align: top;\n    }\n\n    .dataframe thead th {\n        text-align: right;\n    }\n</style>\n<table border=\"1\" class=\"dataframe\">\n  <thead>\n    <tr style=\"text-align: right;\">\n      <th></th>\n      <th>temperatureMaxTime</th>\n      <th>apparentTemperatureMaxTime</th>\n    </tr>\n  </thead>\n  <tbody>\n    <tr>\n      <th>temperatureMaxTime</th>\n      <td>1.000000</td>\n      <td>0.999959</td>\n    </tr>\n    <tr>\n      <th>apparentTemperatureMaxTime</th>\n      <td>0.999959</td>\n      <td>1.000000</td>\n    </tr>\n  </tbody>\n</table>\n</div>"
     },
     "execution_count": 47,
     "metadata": {},
     "output_type": "execute_result"
    }
   ],
   "source": [
    "data[['temperatureMaxTime','apparentTemperatureMaxTime']].corr()"
   ],
   "metadata": {
    "collapsed": false,
    "pycharm": {
     "name": "#%%\n"
    }
   }
  },
  {
   "cell_type": "code",
   "execution_count": 48,
   "outputs": [
    {
     "data": {
      "text/plain": "                        temperatureMin  apparentTemperatureMin\ntemperatureMin                1.000000                0.953896\napparentTemperatureMin        0.953896                1.000000",
      "text/html": "<div>\n<style scoped>\n    .dataframe tbody tr th:only-of-type {\n        vertical-align: middle;\n    }\n\n    .dataframe tbody tr th {\n        vertical-align: top;\n    }\n\n    .dataframe thead th {\n        text-align: right;\n    }\n</style>\n<table border=\"1\" class=\"dataframe\">\n  <thead>\n    <tr style=\"text-align: right;\">\n      <th></th>\n      <th>temperatureMin</th>\n      <th>apparentTemperatureMin</th>\n    </tr>\n  </thead>\n  <tbody>\n    <tr>\n      <th>temperatureMin</th>\n      <td>1.000000</td>\n      <td>0.953896</td>\n    </tr>\n    <tr>\n      <th>apparentTemperatureMin</th>\n      <td>0.953896</td>\n      <td>1.000000</td>\n    </tr>\n  </tbody>\n</table>\n</div>"
     },
     "execution_count": 48,
     "metadata": {},
     "output_type": "execute_result"
    }
   ],
   "source": [
    "data[['temperatureMin','apparentTemperatureMin']].corr()"
   ],
   "metadata": {
    "collapsed": false,
    "pycharm": {
     "name": "#%%\n"
    }
   }
  },
  {
   "cell_type": "code",
   "execution_count": 49,
   "outputs": [
    {
     "data": {
      "text/plain": "                            temperatureMinTime  apparentTemperatureMinTime\ntemperatureMinTime                    1.000000                    0.999375\napparentTemperatureMinTime            0.999375                    1.000000",
      "text/html": "<div>\n<style scoped>\n    .dataframe tbody tr th:only-of-type {\n        vertical-align: middle;\n    }\n\n    .dataframe tbody tr th {\n        vertical-align: top;\n    }\n\n    .dataframe thead th {\n        text-align: right;\n    }\n</style>\n<table border=\"1\" class=\"dataframe\">\n  <thead>\n    <tr style=\"text-align: right;\">\n      <th></th>\n      <th>temperatureMinTime</th>\n      <th>apparentTemperatureMinTime</th>\n    </tr>\n  </thead>\n  <tbody>\n    <tr>\n      <th>temperatureMinTime</th>\n      <td>1.000000</td>\n      <td>0.999375</td>\n    </tr>\n    <tr>\n      <th>apparentTemperatureMinTime</th>\n      <td>0.999375</td>\n      <td>1.000000</td>\n    </tr>\n  </tbody>\n</table>\n</div>"
     },
     "execution_count": 49,
     "metadata": {},
     "output_type": "execute_result"
    }
   ],
   "source": [
    "data[['temperatureMinTime','apparentTemperatureMinTime']].corr()"
   ],
   "metadata": {
    "collapsed": false,
    "pycharm": {
     "name": "#%%\n"
    }
   }
  },
  {
   "cell_type": "code",
   "execution_count": 50,
   "outputs": [
    {
     "data": {
      "text/plain": "                        temperatureLow  apparentTemperatureLow\ntemperatureLow                1.000000                0.933907\napparentTemperatureLow        0.933907                1.000000",
      "text/html": "<div>\n<style scoped>\n    .dataframe tbody tr th:only-of-type {\n        vertical-align: middle;\n    }\n\n    .dataframe tbody tr th {\n        vertical-align: top;\n    }\n\n    .dataframe thead th {\n        text-align: right;\n    }\n</style>\n<table border=\"1\" class=\"dataframe\">\n  <thead>\n    <tr style=\"text-align: right;\">\n      <th></th>\n      <th>temperatureLow</th>\n      <th>apparentTemperatureLow</th>\n    </tr>\n  </thead>\n  <tbody>\n    <tr>\n      <th>temperatureLow</th>\n      <td>1.000000</td>\n      <td>0.933907</td>\n    </tr>\n    <tr>\n      <th>apparentTemperatureLow</th>\n      <td>0.933907</td>\n      <td>1.000000</td>\n    </tr>\n  </tbody>\n</table>\n</div>"
     },
     "execution_count": 50,
     "metadata": {},
     "output_type": "execute_result"
    }
   ],
   "source": [
    "data[['temperatureLow','apparentTemperatureLow']].corr()"
   ],
   "metadata": {
    "collapsed": false,
    "pycharm": {
     "name": "#%%\n"
    }
   }
  },
  {
   "cell_type": "code",
   "execution_count": 51,
   "outputs": [
    {
     "data": {
      "text/plain": "                     temperature  apparentTemperature\ntemperature             1.000000             0.946171\napparentTemperature     0.946171             1.000000",
      "text/html": "<div>\n<style scoped>\n    .dataframe tbody tr th:only-of-type {\n        vertical-align: middle;\n    }\n\n    .dataframe tbody tr th {\n        vertical-align: top;\n    }\n\n    .dataframe thead th {\n        text-align: right;\n    }\n</style>\n<table border=\"1\" class=\"dataframe\">\n  <thead>\n    <tr style=\"text-align: right;\">\n      <th></th>\n      <th>temperature</th>\n      <th>apparentTemperature</th>\n    </tr>\n  </thead>\n  <tbody>\n    <tr>\n      <th>temperature</th>\n      <td>1.000000</td>\n      <td>0.946171</td>\n    </tr>\n    <tr>\n      <th>apparentTemperature</th>\n      <td>0.946171</td>\n      <td>1.000000</td>\n    </tr>\n  </tbody>\n</table>\n</div>"
     },
     "execution_count": 51,
     "metadata": {},
     "output_type": "execute_result"
    }
   ],
   "source": [
    "data[['temperature','apparentTemperature']].corr()"
   ],
   "metadata": {
    "collapsed": false,
    "pycharm": {
     "name": "#%%\n"
    }
   }
  },
  {
   "cell_type": "code",
   "execution_count": 52,
   "outputs": [
    {
     "data": {
      "text/plain": "Index(['timestamp', 'hour', 'month', 'source', 'destination', 'cab_type',\n       'name', 'price', 'distance', 'surge_multiplier', 'latitude',\n       'longitude', 'temperature', 'precipIntensity', 'precipProbability',\n       'humidity', 'windSpeed', 'windGust', 'windGustTime', 'visibility',\n       'temperatureLow', 'icon', 'dewPoint', 'pressure', 'windBearing',\n       'cloudCover', 'uvIndex', 'visibility.1', 'ozone', 'sunriseTime',\n       'sunsetTime', 'moonPhase', 'precipIntensityMax', 'uvIndexTime',\n       'temperatureMin', 'temperatureMinTime', 'temperatureMax',\n       'temperatureMaxTime', 'weekday'],\n      dtype='object')"
     },
     "execution_count": 52,
     "metadata": {},
     "output_type": "execute_result"
    }
   ],
   "source": [
    "#выбрасываем все apparent...\n",
    "drop_cols=['apparentTemperatureLow', 'apparentTemperatureMax','apparentTemperatureMin','apparentTemperatureMaxTime',\n",
    "           'apparentTemperatureMinTime','apparentTemperature']\n",
    "\n",
    "data.drop(drop_cols, axis=1, inplace=True)\n",
    "data.columns"
   ],
   "metadata": {
    "collapsed": false,
    "pycharm": {
     "name": "#%%\n"
    }
   }
  },
  {
   "cell_type": "code",
   "execution_count": 53,
   "outputs": [
    {
     "data": {
      "text/plain": "              visibility  visibility.1\nvisibility           1.0           1.0\nvisibility.1         1.0           1.0",
      "text/html": "<div>\n<style scoped>\n    .dataframe tbody tr th:only-of-type {\n        vertical-align: middle;\n    }\n\n    .dataframe tbody tr th {\n        vertical-align: top;\n    }\n\n    .dataframe thead th {\n        text-align: right;\n    }\n</style>\n<table border=\"1\" class=\"dataframe\">\n  <thead>\n    <tr style=\"text-align: right;\">\n      <th></th>\n      <th>visibility</th>\n      <th>visibility.1</th>\n    </tr>\n  </thead>\n  <tbody>\n    <tr>\n      <th>visibility</th>\n      <td>1.0</td>\n      <td>1.0</td>\n    </tr>\n    <tr>\n      <th>visibility.1</th>\n      <td>1.0</td>\n      <td>1.0</td>\n    </tr>\n  </tbody>\n</table>\n</div>"
     },
     "execution_count": 53,
     "metadata": {},
     "output_type": "execute_result"
    }
   ],
   "source": [
    "#проверим visibility и visibility.1\n",
    "data[['visibility','visibility.1']].corr()"
   ],
   "metadata": {
    "collapsed": false,
    "pycharm": {
     "name": "#%%\n"
    }
   }
  },
  {
   "cell_type": "code",
   "execution_count": 54,
   "outputs": [],
   "source": [
    "#выбрасываем visibility.1\n",
    "data.drop(['visibility.1'],axis=1,inplace=True)"
   ],
   "metadata": {
    "collapsed": false,
    "pycharm": {
     "name": "#%%\n"
    }
   }
  },
  {
   "cell_type": "code",
   "execution_count": 55,
   "outputs": [
    {
     "data": {
      "text/plain": "             sunsetTime  sunriseTime\nsunsetTime          1.0          1.0\nsunriseTime         1.0          1.0",
      "text/html": "<div>\n<style scoped>\n    .dataframe tbody tr th:only-of-type {\n        vertical-align: middle;\n    }\n\n    .dataframe tbody tr th {\n        vertical-align: top;\n    }\n\n    .dataframe thead th {\n        text-align: right;\n    }\n</style>\n<table border=\"1\" class=\"dataframe\">\n  <thead>\n    <tr style=\"text-align: right;\">\n      <th></th>\n      <th>sunsetTime</th>\n      <th>sunriseTime</th>\n    </tr>\n  </thead>\n  <tbody>\n    <tr>\n      <th>sunsetTime</th>\n      <td>1.0</td>\n      <td>1.0</td>\n    </tr>\n    <tr>\n      <th>sunriseTime</th>\n      <td>1.0</td>\n      <td>1.0</td>\n    </tr>\n  </tbody>\n</table>\n</div>"
     },
     "execution_count": 55,
     "metadata": {},
     "output_type": "execute_result"
    }
   ],
   "source": [
    "#проверим sunsetTime и sunriseTime\n",
    "data[['sunsetTime','sunriseTime']].corr()"
   ],
   "metadata": {
    "collapsed": false,
    "pycharm": {
     "name": "#%%\n"
    }
   }
  },
  {
   "cell_type": "code",
   "execution_count": 56,
   "outputs": [],
   "source": [
    "data.drop(['sunsetTime'],axis=1,inplace=True)"
   ],
   "metadata": {
    "collapsed": false,
    "pycharm": {
     "name": "#%%\n"
    }
   }
  },
  {
   "cell_type": "code",
   "execution_count": 57,
   "outputs": [
    {
     "data": {
      "text/plain": "Index(['timestamp', 'hour', 'month', 'source', 'destination', 'cab_type',\n       'name', 'price', 'distance', 'surge_multiplier', 'latitude',\n       'longitude', 'temperature', 'precipIntensity', 'precipProbability',\n       'humidity', 'windSpeed', 'windGust', 'windGustTime', 'visibility',\n       'temperatureLow', 'icon', 'dewPoint', 'pressure', 'windBearing',\n       'cloudCover', 'uvIndex', 'ozone', 'sunriseTime', 'moonPhase',\n       'precipIntensityMax', 'uvIndexTime', 'temperatureMin',\n       'temperatureMinTime', 'temperatureMax', 'temperatureMaxTime',\n       'weekday'],\n      dtype='object')"
     },
     "execution_count": 57,
     "metadata": {},
     "output_type": "execute_result"
    }
   ],
   "source": [
    "#оставшиеся признаки\n",
    "data.columns"
   ],
   "metadata": {
    "collapsed": false,
    "pycharm": {
     "name": "#%%\n"
    }
   }
  },
  {
   "cell_type": "code",
   "execution_count": 58,
   "outputs": [
    {
     "data": {
      "text/plain": "      timestamp  hour  month  source  destination  cab_type  name  price  \\\n0  1.543564e+09     7     11      11            1         1     1    9.0   \n1  1.544822e+09    21     12       7            1         2     2   27.0   \n2  1.543834e+09    10     12      10            5         1     3   10.5   \n3  1.543759e+09    14     12       5            4         2     4    7.0   \n4  1.544973e+09    15     12       0            3         1     1    7.0   \n\n   distance  surge_multiplier  ...  ozone  sunriseTime  moonPhase  \\\n0      2.07               1.0  ...  286.9   1543578866       0.79   \n1      2.14               1.0  ...  290.2   1544789239       0.24   \n2      4.80               1.0  ...  296.7   1543838223       0.89   \n3      0.03               1.0  ...  276.0   1543751797       0.86   \n4      1.02               1.0  ...  324.2   1544962119       0.30   \n\n   precipIntensityMax  uvIndexTime  temperatureMin  temperatureMinTime  \\\n0              0.0003   1543593600           28.78          1543579200   \n1              0.0000   1544806800           26.76          1544788800   \n2              0.0007   1543852800           42.96          1543896000   \n3              0.0904   1543770000           36.45          1543726800   \n4              0.1252   1544979600           39.22          1544954400   \n\n   temperatureMax  temperatureMaxTime  weekday  \n0           42.64          1543600800        4  \n1           46.90          1544814000        4  \n2           57.87          1543852800        0  \n3           50.73          1543788000        6  \n4           43.83          1544990400        6  \n\n[5 rows x 37 columns]",
      "text/html": "<div>\n<style scoped>\n    .dataframe tbody tr th:only-of-type {\n        vertical-align: middle;\n    }\n\n    .dataframe tbody tr th {\n        vertical-align: top;\n    }\n\n    .dataframe thead th {\n        text-align: right;\n    }\n</style>\n<table border=\"1\" class=\"dataframe\">\n  <thead>\n    <tr style=\"text-align: right;\">\n      <th></th>\n      <th>timestamp</th>\n      <th>hour</th>\n      <th>month</th>\n      <th>source</th>\n      <th>destination</th>\n      <th>cab_type</th>\n      <th>name</th>\n      <th>price</th>\n      <th>distance</th>\n      <th>surge_multiplier</th>\n      <th>...</th>\n      <th>ozone</th>\n      <th>sunriseTime</th>\n      <th>moonPhase</th>\n      <th>precipIntensityMax</th>\n      <th>uvIndexTime</th>\n      <th>temperatureMin</th>\n      <th>temperatureMinTime</th>\n      <th>temperatureMax</th>\n      <th>temperatureMaxTime</th>\n      <th>weekday</th>\n    </tr>\n  </thead>\n  <tbody>\n    <tr>\n      <th>0</th>\n      <td>1.543564e+09</td>\n      <td>7</td>\n      <td>11</td>\n      <td>11</td>\n      <td>1</td>\n      <td>1</td>\n      <td>1</td>\n      <td>9.0</td>\n      <td>2.07</td>\n      <td>1.0</td>\n      <td>...</td>\n      <td>286.9</td>\n      <td>1543578866</td>\n      <td>0.79</td>\n      <td>0.0003</td>\n      <td>1543593600</td>\n      <td>28.78</td>\n      <td>1543579200</td>\n      <td>42.64</td>\n      <td>1543600800</td>\n      <td>4</td>\n    </tr>\n    <tr>\n      <th>1</th>\n      <td>1.544822e+09</td>\n      <td>21</td>\n      <td>12</td>\n      <td>7</td>\n      <td>1</td>\n      <td>2</td>\n      <td>2</td>\n      <td>27.0</td>\n      <td>2.14</td>\n      <td>1.0</td>\n      <td>...</td>\n      <td>290.2</td>\n      <td>1544789239</td>\n      <td>0.24</td>\n      <td>0.0000</td>\n      <td>1544806800</td>\n      <td>26.76</td>\n      <td>1544788800</td>\n      <td>46.90</td>\n      <td>1544814000</td>\n      <td>4</td>\n    </tr>\n    <tr>\n      <th>2</th>\n      <td>1.543834e+09</td>\n      <td>10</td>\n      <td>12</td>\n      <td>10</td>\n      <td>5</td>\n      <td>1</td>\n      <td>3</td>\n      <td>10.5</td>\n      <td>4.80</td>\n      <td>1.0</td>\n      <td>...</td>\n      <td>296.7</td>\n      <td>1543838223</td>\n      <td>0.89</td>\n      <td>0.0007</td>\n      <td>1543852800</td>\n      <td>42.96</td>\n      <td>1543896000</td>\n      <td>57.87</td>\n      <td>1543852800</td>\n      <td>0</td>\n    </tr>\n    <tr>\n      <th>3</th>\n      <td>1.543759e+09</td>\n      <td>14</td>\n      <td>12</td>\n      <td>5</td>\n      <td>4</td>\n      <td>2</td>\n      <td>4</td>\n      <td>7.0</td>\n      <td>0.03</td>\n      <td>1.0</td>\n      <td>...</td>\n      <td>276.0</td>\n      <td>1543751797</td>\n      <td>0.86</td>\n      <td>0.0904</td>\n      <td>1543770000</td>\n      <td>36.45</td>\n      <td>1543726800</td>\n      <td>50.73</td>\n      <td>1543788000</td>\n      <td>6</td>\n    </tr>\n    <tr>\n      <th>4</th>\n      <td>1.544973e+09</td>\n      <td>15</td>\n      <td>12</td>\n      <td>0</td>\n      <td>3</td>\n      <td>1</td>\n      <td>1</td>\n      <td>7.0</td>\n      <td>1.02</td>\n      <td>1.0</td>\n      <td>...</td>\n      <td>324.2</td>\n      <td>1544962119</td>\n      <td>0.30</td>\n      <td>0.1252</td>\n      <td>1544979600</td>\n      <td>39.22</td>\n      <td>1544954400</td>\n      <td>43.83</td>\n      <td>1544990400</td>\n      <td>6</td>\n    </tr>\n  </tbody>\n</table>\n<p>5 rows × 37 columns</p>\n</div>"
     },
     "execution_count": 58,
     "metadata": {},
     "output_type": "execute_result"
    }
   ],
   "source": [
    "data.head()"
   ],
   "metadata": {
    "collapsed": false,
    "pycharm": {
     "name": "#%%\n"
    }
   }
  },
  {
   "cell_type": "code",
   "execution_count": 59,
   "outputs": [
    {
     "data": {
      "text/plain": "<AxesSubplot:>"
     },
     "execution_count": 59,
     "metadata": {},
     "output_type": "execute_result"
    },
    {
     "data": {
      "text/plain": "<Figure size 432x288 with 1 Axes>",
      "image/png": "[encoded data removed]"
     },
     "metadata": {
      "needs_background": "light"
     },
     "output_type": "display_data"
    }
   ],
   "source": [
    "data['latitude'].hist()"
   ],
   "metadata": {
    "collapsed": false,
    "pycharm": {
     "name": "#%%\n"
    }
   }
  },
  {
   "cell_type": "code",
   "execution_count": 60,
   "outputs": [
    {
     "data": {
      "text/plain": "<AxesSubplot:>"
     },
     "execution_count": 60,
     "metadata": {},
     "output_type": "execute_result"
    },
    {
     "data": {
      "text/plain": "<Figure size 432x288 with 1 Axes>",
      "image/png": "[encoded data removed]"
     },
     "metadata": {
      "needs_background": "light"
     },
     "output_type": "display_data"
    }
   ],
   "source": [
    "data['longitude'].hist()"
   ],
   "metadata": {
    "collapsed": false,
    "pycharm": {
     "name": "#%%\n"
    }
   }
  },
  {
   "cell_type": "code",
   "execution_count": 61,
   "outputs": [
    {
     "data": {
      "text/plain": "<AxesSubplot:>"
     },
     "execution_count": 61,
     "metadata": {},
     "output_type": "execute_result"
    },
    {
     "data": {
      "text/plain": "<Figure size 432x288 with 1 Axes>",
      "image/png": "[encoded data removed]"
     },
     "metadata": {
      "needs_background": "light"
     },
     "output_type": "display_data"
    }
   ],
   "source": [
    "#посмотрим на распределение целевой переменной\n",
    "data.price.hist()"
   ],
   "metadata": {
    "collapsed": false,
    "pycharm": {
     "name": "#%%\n"
    }
   }
  },
  {
   "cell_type": "code",
   "execution_count": 62,
   "outputs": [
    {
     "data": {
      "text/plain": "<AxesSubplot:>"
     },
     "execution_count": 62,
     "metadata": {},
     "output_type": "execute_result"
    },
    {
     "data": {
      "text/plain": "<Figure size 432x288 with 1 Axes>",
      "image/png": "[encoded data removed]"
     },
     "metadata": {
      "needs_background": "light"
     },
     "output_type": "display_data"
    }
   ],
   "source": [
    "#оно сильно скошено влево, попробуем применить логарифм и будем предсказывать логарифм цены\n",
    "data.price=np.log(data.price)\n",
    "data.price.hist()"
   ],
   "metadata": {
    "collapsed": false,
    "pycharm": {
     "name": "#%%\n"
    }
   }
  },
  {
   "cell_type": "code",
   "execution_count": 63,
   "outputs": [],
   "source": [
    "from sklearn.model_selection import train_test_split\n",
    "df_train, df_test = train_test_split(data, test_size = 0.3)"
   ],
   "metadata": {
    "collapsed": false,
    "pycharm": {
     "name": "#%%\n"
    }
   }
  },
  {
   "cell_type": "code",
   "execution_count": 64,
   "outputs": [
    {
     "data": {
      "text/plain": "Index(['timestamp', 'hour', 'month', 'source', 'destination', 'cab_type',\n       'name', 'price', 'distance', 'surge_multiplier', 'latitude',\n       'longitude', 'temperature', 'precipIntensity', 'precipProbability',\n       'humidity', 'windSpeed', 'windGust', 'windGustTime', 'visibility',\n       'temperatureLow', 'icon', 'dewPoint', 'pressure', 'windBearing',\n       'cloudCover', 'uvIndex', 'ozone', 'sunriseTime', 'moonPhase',\n       'precipIntensityMax', 'uvIndexTime', 'temperatureMin',\n       'temperatureMinTime', 'temperatureMax', 'temperatureMaxTime',\n       'weekday'],\n      dtype='object')"
     },
     "execution_count": 64,
     "metadata": {},
     "output_type": "execute_result"
    }
   ],
   "source": [
    "data.columns"
   ],
   "metadata": {
    "collapsed": false,
    "pycharm": {
     "name": "#%%\n"
    }
   }
  },
  {
   "cell_type": "code",
   "execution_count": 65,
   "outputs": [],
   "source": [
    "#колонки для шкалирования (все, кроме price, cab_type, name, source и destination - которые мы закодировали сами)\n",
    "scaler_cols=['timestamp','hour', 'month', 'distance', 'surge_multiplier', 'latitude',\n",
    "       'longitude', 'temperature', 'precipIntensity', 'precipProbability',\n",
    "       'humidity', 'windSpeed', 'windGust', 'windGustTime', 'visibility',\n",
    "       'temperatureLow', 'dewPoint', 'pressure', 'windBearing', 'cloudCover',\n",
    "       'uvIndex', 'ozone', 'sunriseTime', 'moonPhase', 'precipIntensityMax',\n",
    "       'uvIndexTime', 'temperatureMin', 'temperatureMinTime', 'temperatureMax',\n",
    "       'temperatureMaxTime','weekday']\n"
   ],
   "metadata": {
    "collapsed": false,
    "pycharm": {
     "name": "#%%\n"
    }
   }
  },
  {
   "cell_type": "code",
   "execution_count": 66,
   "outputs": [
    {
     "data": {
      "text/plain": "StandardScaler()",
      "text/html": "<style>#sk-container-id-1 {color: black;background-color: white;}#sk-container-id-1 pre{padding: 0;}#sk-container-id-1 div.sk-toggleable {background-color: white;}#sk-container-id-1 label.sk-toggleable__label {cursor: pointer;display: block;width: 100%;margin-bottom: 0;padding: 0.3em;box-sizing: border-box;text-align: center;}#sk-container-id-1 label.sk-toggleable__label-arrow:before {content: \"▸\";float: left;margin-right: 0.25em;color: #696969;}#sk-container-id-1 label.sk-toggleable__label-arrow:hover:before {color: black;}#sk-container-id-1 div.sk-estimator:hover label.sk-toggleable__label-arrow:before {color: black;}#sk-container-id-1 div.sk-toggleable__content {max-height: 0;max-width: 0;overflow: hidden;text-align: left;background-color: #f0f8ff;}#sk-container-id-1 div.sk-toggleable__content pre {margin: 0.2em;color: black;border-radius: 0.25em;background-color: #f0f8ff;}#sk-container-id-1 input.sk-toggleable__control:checked~div.sk-toggleable__content {max-height: 200px;max-width: 100%;overflow: auto;}#sk-container-id-1 input.sk-toggleable__control:checked~label.sk-toggleable__label-arrow:before {content: \"▾\";}#sk-container-id-1 div.sk-estimator input.sk-toggleable__control:checked~label.sk-toggleable__label {background-color: #d4ebff;}#sk-container-id-1 div.sk-label input.sk-toggleable__control:checked~label.sk-toggleable__label {background-color: #d4ebff;}#sk-container-id-1 input.sk-hidden--visually {border: 0;clip: rect(1px 1px 1px 1px);clip: rect(1px, 1px, 1px, 1px);height: 1px;margin: -1px;overflow: hidden;padding: 0;position: absolute;width: 1px;}#sk-container-id-1 div.sk-estimator {font-family: monospace;background-color: #f0f8ff;border: 1px dotted black;border-radius: 0.25em;box-sizing: border-box;margin-bottom: 0.5em;}#sk-container-id-1 div.sk-estimator:hover {background-color: #d4ebff;}#sk-container-id-1 div.sk-parallel-item::after {content: \"\";width: 100%;border-bottom: 1px solid gray;flex-grow: 1;}#sk-container-id-1 div.sk-label:hover label.sk-toggleable__label {background-color: #d4ebff;}#sk-container-id-1 div.sk-serial::before {content: \"\";position: absolute;border-left: 1px solid gray;box-sizing: border-box;top: 0;bottom: 0;left: 50%;z-index: 0;}#sk-container-id-1 div.sk-serial {display: flex;flex-direction: column;align-items: center;background-color: white;padding-right: 0.2em;padding-left: 0.2em;position: relative;}#sk-container-id-1 div.sk-item {position: relative;z-index: 1;}#sk-container-id-1 div.sk-parallel {display: flex;align-items: stretch;justify-content: center;background-color: white;position: relative;}#sk-container-id-1 div.sk-item::before, #sk-container-id-1 div.sk-parallel-item::before {content: \"\";position: absolute;border-left: 1px solid gray;box-sizing: border-box;top: 0;bottom: 0;left: 50%;z-index: -1;}#sk-container-id-1 div.sk-parallel-item {display: flex;flex-direction: column;z-index: 1;position: relative;background-color: white;}#sk-container-id-1 div.sk-parallel-item:first-child::after {align-self: flex-end;width: 50%;}#sk-container-id-1 div.sk-parallel-item:last-child::after {align-self: flex-start;width: 50%;}#sk-container-id-1 div.sk-parallel-item:only-child::after {width: 0;}#sk-container-id-1 div.sk-dashed-wrapped {border: 1px dashed gray;margin: 0 0.4em 0.5em 0.4em;box-sizing: border-box;padding-bottom: 0.4em;background-color: white;}#sk-container-id-1 div.sk-label label {font-family: monospace;font-weight: bold;display: inline-block;line-height: 1.2em;}#sk-container-id-1 div.sk-label-container {text-align: center;}#sk-container-id-1 div.sk-container {/* jupyter's `normalize.less` sets `[hidden] { display: none; }` but bootstrap.min.css set `[hidden] { display: none !important; }` so we also need the `!important` here to be able to override the default hidden behavior on the sphinx rendered scikit-learn.org. See: https://github.com/scikit-learn/scikit-learn/issues/21755 */display: inline-block !important;position: relative;}#sk-container-id-1 div.sk-text-repr-fallback {display: none;}</style><div id=\"sk-container-id-1\" class=\"sk-top-container\"><div class=\"sk-text-repr-fallback\"><pre>StandardScaler()</pre><b>In a Jupyter environment, please rerun this cell to show the HTML representation or trust the notebook. <br />On GitHub, the HTML representation is unable to render, please try loading this page with nbviewer.org.</b></div><div class=\"sk-container\" hidden><div class=\"sk-item\"><div class=\"sk-estimator sk-toggleable\"><input class=\"sk-toggleable__control sk-hidden--visually\" id=\"sk-estimator-id-1\" type=\"checkbox\" checked><label for=\"sk-estimator-id-1\" class=\"sk-toggleable__label sk-toggleable__label-arrow\">StandardScaler</label><div class=\"sk-toggleable__content\"><pre>StandardScaler()</pre></div></div></div></div></div>"
     },
     "execution_count": 66,
     "metadata": {},
     "output_type": "execute_result"
    }
   ],
   "source": [
    "from sklearn.preprocessing import StandardScaler\n",
    "\n",
    "# объявили объект стандартного шкалирования\n",
    "scaler = StandardScaler()\n",
    "\n",
    "# учим скалировщик скалировать все переменны на трэйне\n",
    "scaler.fit(df_train[scaler_cols])"
   ],
   "metadata": {
    "collapsed": false,
    "pycharm": {
     "name": "#%%\n"
    }
   }
  },
  {
   "cell_type": "code",
   "execution_count": 67,
   "outputs": [],
   "source": [
    "# Применяем скалировщик к трэйну\n",
    "df_train_scale = scaler.transform(df_train[scaler_cols])\n",
    "\n",
    "# Применяем скалирвощик к тесту\n",
    "df_test_scale = scaler.transform(df_test[scaler_cols])"
   ],
   "metadata": {
    "collapsed": false,
    "pycharm": {
     "name": "#%%\n"
    }
   }
  },
  {
   "cell_type": "code",
   "execution_count": 68,
   "outputs": [],
   "source": [
    "# Заменяем значения на отскалированные\n",
    "df_train[scaler_cols] = df_train_scale\n",
    "df_test[scaler_cols] = df_test_scale"
   ],
   "metadata": {
    "collapsed": false,
    "pycharm": {
     "name": "#%%\n"
    }
   }
  },
  {
   "cell_type": "code",
   "execution_count": 69,
   "outputs": [
    {
     "data": {
      "text/plain": "(334966, 37)"
     },
     "execution_count": 69,
     "metadata": {},
     "output_type": "execute_result"
    }
   ],
   "source": [
    "df_train.shape"
   ],
   "metadata": {
    "collapsed": false,
    "pycharm": {
     "name": "#%%\n"
    }
   }
  },
  {
   "cell_type": "code",
   "execution_count": 70,
   "outputs": [
    {
     "data": {
      "text/plain": "(143557, 37)"
     },
     "execution_count": 70,
     "metadata": {},
     "output_type": "execute_result"
    }
   ],
   "source": [
    "df_test.shape"
   ],
   "metadata": {
    "collapsed": false,
    "pycharm": {
     "name": "#%%\n"
    }
   }
  },
  {
   "cell_type": "code",
   "execution_count": 71,
   "outputs": [],
   "source": [
    "# Вытаскиваем цены и параметры поездок по разным переменным\n",
    "\n",
    "y_train = df_train.price\n",
    "y_test = df_test.price\n",
    "\n",
    "X_train = df_train.drop('price', axis=1)\n",
    "X_test = df_test.drop('price', axis=1)"
   ],
   "metadata": {
    "collapsed": false,
    "pycharm": {
     "name": "#%%\n"
    }
   }
  },
  {
   "cell_type": "markdown",
   "source": [
    "# Линейная регрессия"
   ],
   "metadata": {
    "collapsed": false,
    "pycharm": {
     "name": "#%% md\n"
    }
   }
  },
  {
   "cell_type": "code",
   "execution_count": 72,
   "outputs": [],
   "source": [
    "from sklearn.linear_model import LinearRegression\n",
    "\n",
    "# Объявили модель\n",
    "model_regression = LinearRegression()\n",
    "\n",
    "# Обучили модель на тренировочной выборке\n",
    "model_regression.fit(X_train, y_train)\n",
    "\n",
    "# Сделали прогнозы на тестовой выборке\n",
    "y_pred_regr = model_regression.predict(X_test)"
   ],
   "metadata": {
    "collapsed": false,
    "pycharm": {
     "name": "#%%\n"
    }
   }
  },
  {
   "cell_type": "code",
   "execution_count": 73,
   "outputs": [],
   "source": [
    "from sklearn import metrics\n",
    "from sklearn.metrics import mean_absolute_error, mean_squared_error, r2_score, mean_absolute_percentage_error"
   ],
   "metadata": {
    "collapsed": false,
    "pycharm": {
     "name": "#%%\n"
    }
   }
  },
  {
   "cell_type": "code",
   "execution_count": 74,
   "outputs": [],
   "source": [
    "def print_metrics(y_test,y_pred):\n",
    "    print('MAE:', metrics.mean_absolute_error(y_test, y_pred))\n",
    "    print('RMSE:', np.sqrt(metrics.mean_squared_error(y_test, y_pred)))\n",
    "    print('R2:',  metrics.r2_score(y_test, y_pred))\n",
    "    print('MAPE:', mean_absolute_percentage_error(y_test, y_pred))\n",
    "    pass"
   ],
   "metadata": {
    "collapsed": false,
    "pycharm": {
     "name": "#%%\n"
    }
   }
  },
  {
   "cell_type": "code",
   "execution_count": 75,
   "outputs": [
    {
     "name": "stdout",
     "output_type": "stream",
     "text": [
      "MAE: 6.355825090549135\n",
      "RMSE: 8.652075130700482\n",
      "R2: 0.14019197276569306\n",
      "MAPE: 0.42931864816477083\n"
     ]
    }
   ],
   "source": [
    "print_metrics(np.exp(y_test),np.exp(y_pred_regr))"
   ],
   "metadata": {
    "collapsed": false,
    "pycharm": {
     "name": "#%%\n"
    }
   }
  },
  {
   "cell_type": "markdown",
   "source": [
    "# посмотрим на важность признаков"
   ],
   "metadata": {
    "collapsed": false,
    "pycharm": {
     "name": "#%% md\n"
    }
   }
  },
  {
   "cell_type": "code",
   "execution_count": 76,
   "outputs": [
    {
     "data": {
      "text/plain": "<Figure size 720x432 with 1 Axes>",
      "image/png": "[encoded data removed]"
     },
     "metadata": {
      "needs_background": "light"
     },
     "output_type": "display_data"
    }
   ],
   "source": [
    "featureImportance = pd.DataFrame({\"feature\": data.drop('price',axis=1).columns,\n",
    "                                  \"importance\": model_regression.coef_})\n",
    "\n",
    "featureImportance.set_index('feature', inplace=True)\n",
    "featureImportance.sort_values([\"importance\"], ascending=False, inplace=True)\n",
    "featureImportance[\"importance\"].plot(kind='bar', figsize=(10, 6));"
   ],
   "metadata": {
    "collapsed": false,
    "pycharm": {
     "name": "#%%\n"
    }
   }
  },
  {
   "cell_type": "markdown",
   "source": [
    "# применим Лассо регуляризацию"
   ],
   "metadata": {
    "collapsed": false,
    "pycharm": {
     "name": "#%% md\n"
    }
   }
  },
  {
   "cell_type": "code",
   "execution_count": 77,
   "outputs": [
    {
     "name": "stdout",
     "output_type": "stream",
     "text": [
      "Лучшее значение параметра: {'alpha': 0.001}\n"
     ]
    }
   ],
   "source": [
    "from sklearn.model_selection import GridSearchCV\n",
    "from sklearn.linear_model import Lasso\n",
    "\n",
    "# Решётка для перебора параметра\n",
    "param_grid = {'alpha': [0.001, 0.01, 0.05, 0.1, 0.5, 0.8, 1, 5, 10]}\n",
    "\n",
    "# Объявили модель\n",
    "model_lasso = Lasso()\n",
    "\n",
    "# Объявили перебор\n",
    "grid_cv_lasso = GridSearchCV(model_lasso, param_grid, cv = 5)\n",
    "grid_cv_lasso.fit(X_train, y_train)\n",
    "print('Лучшее значение параметра:', grid_cv_lasso.best_params_)\n",
    "\n",
    "# Сделали прогнозы\n",
    "y_pred_lasso = grid_cv_lasso.predict(X_test)"
   ],
   "metadata": {
    "collapsed": false,
    "pycharm": {
     "name": "#%%\n"
    }
   }
  },
  {
   "cell_type": "code",
   "execution_count": 78,
   "outputs": [
    {
     "name": "stdout",
     "output_type": "stream",
     "text": [
      "MAE: 6.356759814090147\n",
      "RMSE: 8.647933931136137\n",
      "R2: 0.14101484691982968\n",
      "MAPE: 0.42959651864732623\n"
     ]
    }
   ],
   "source": [
    "print_metrics(np.exp(y_test),np.exp(y_pred_lasso))"
   ],
   "metadata": {
    "collapsed": false,
    "pycharm": {
     "name": "#%%\n"
    }
   }
  },
  {
   "cell_type": "code",
   "execution_count": 79,
   "outputs": [
    {
     "data": {
      "text/plain": "<Figure size 720x432 with 1 Axes>",
      "image/png": "[encoded data removed]"
     },
     "metadata": {
      "needs_background": "light"
     },
     "output_type": "display_data"
    }
   ],
   "source": [
    "featureImportance = pd.DataFrame({\"feature\": data.drop('price',axis=1).columns,\n",
    "                                  \"importance\": grid_cv_lasso.best_estimator_.coef_})\n",
    "\n",
    "featureImportance.set_index('feature', inplace=True)\n",
    "featureImportance.sort_values([\"importance\"], ascending=False, inplace=True)\n",
    "featureImportance[\"importance\"].plot(kind='bar', figsize=(10, 6));"
   ],
   "metadata": {
    "collapsed": false,
    "pycharm": {
     "name": "#%%\n"
    }
   }
  },
  {
   "cell_type": "markdown",
   "source": [
    "# Попробуем Decision Tree Regressor"
   ],
   "metadata": {
    "collapsed": false,
    "pycharm": {
     "name": "#%% md\n"
    }
   }
  },
  {
   "cell_type": "code",
   "execution_count": 80,
   "outputs": [],
   "source": [
    "from sklearn.tree import DecisionTreeRegressor\n",
    "\n",
    "tree=DecisionTreeRegressor(random_state=42)\n",
    "\n",
    "tree.fit(X_train, y_train)\n",
    "\n",
    "y_tree_pred=tree.predict(X_test)"
   ],
   "metadata": {
    "collapsed": false,
    "pycharm": {
     "name": "#%%\n"
    }
   }
  },
  {
   "cell_type": "code",
   "execution_count": 81,
   "outputs": [
    {
     "name": "stdout",
     "output_type": "stream",
     "text": [
      "MAE: 1.3380059927991366\n",
      "RMSE: 2.3450061176700023\n",
      "R2: 0.9368390153997057\n",
      "MAPE: 0.09918414846817034\n"
     ]
    }
   ],
   "source": [
    "print_metrics(np.exp(y_test),np.exp(y_tree_pred))"
   ],
   "metadata": {
    "collapsed": false,
    "pycharm": {
     "name": "#%%\n"
    }
   }
  },
  {
   "cell_type": "code",
   "execution_count": 82,
   "outputs": [
    {
     "data": {
      "text/plain": "<Figure size 720x432 with 1 Axes>",
      "image/png": "[encoded data removed]"
     },
     "metadata": {
      "needs_background": "light"
     },
     "output_type": "display_data"
    }
   ],
   "source": [
    "featureImportance = pd.DataFrame({\"feature\": data.drop('price',axis=1).columns,\n",
    "                                  \"importance\": tree.feature_importances_})\n",
    "\n",
    "featureImportance.set_index('feature', inplace=True)\n",
    "featureImportance.sort_values([\"importance\"], ascending=False, inplace=True)\n",
    "featureImportance[\"importance\"].plot(kind='bar', figsize=(10, 6));"
   ],
   "metadata": {
    "collapsed": false,
    "pycharm": {
     "name": "#%%\n"
    }
   }
  },
  {
   "cell_type": "code",
   "execution_count": 83,
   "outputs": [
    {
     "name": "stdout",
     "output_type": "stream",
     "text": [
      "Лучшее значение параметра: {'max_depth': 10}\n"
     ]
    }
   ],
   "source": [
    "# Решётка для перебора параметра\n",
    "param_grid = {'max_depth': [5, 10, 20, 30]}\n",
    "\n",
    "# Объявили модель\n",
    "tree = DecisionTreeRegressor(random_state=42)\n",
    "\n",
    "# Объявили перебор\n",
    "grid_tree = GridSearchCV(tree, param_grid, cv = 5)\n",
    "grid_tree.fit(X_train, y_train)\n",
    "print('Лучшее значение параметра:', grid_tree.best_params_)\n",
    "\n",
    "# Сделали прогнозы\n",
    "y_tree_pred = grid_tree.predict(X_test)"
   ],
   "metadata": {
    "collapsed": false,
    "pycharm": {
     "name": "#%%\n"
    }
   }
  },
  {
   "cell_type": "code",
   "execution_count": 84,
   "outputs": [
    {
     "name": "stdout",
     "output_type": "stream",
     "text": [
      "MAE: 1.1357009032231118\n",
      "RMSE: 1.781217652562156\n",
      "R2: 0.9635586118190831\n",
      "MAPE: 0.0817593755947613\n"
     ]
    }
   ],
   "source": [
    "print_metrics(np.exp(y_test),np.exp(y_tree_pred))"
   ],
   "metadata": {
    "collapsed": false,
    "pycharm": {
     "name": "#%%\n"
    }
   }
  },
  {
   "cell_type": "code",
   "execution_count": 85,
   "outputs": [
    {
     "data": {
      "text/plain": "<Figure size 720x432 with 1 Axes>",
      "image/png": "[encoded data removed]"
     },
     "metadata": {
      "needs_background": "light"
     },
     "output_type": "display_data"
    }
   ],
   "source": [
    "featureImportance = pd.DataFrame({\"feature\": data.drop('price',axis=1).columns,\n",
    "                                  \"importance\": grid_tree.best_estimator_.feature_importances_})\n",
    "\n",
    "featureImportance.set_index('feature', inplace=True)\n",
    "featureImportance.sort_values([\"importance\"], ascending=False, inplace=True)\n",
    "featureImportance[\"importance\"].plot(kind='bar', figsize=(10, 6));"
   ],
   "metadata": {
    "collapsed": false,
    "pycharm": {
     "name": "#%%\n"
    }
   }
  },
  {
   "cell_type": "markdown",
   "source": [
    "# Пробуем Random Forest Regressor"
   ],
   "metadata": {
    "collapsed": false,
    "pycharm": {
     "name": "#%% md\n"
    }
   }
  },
  {
   "cell_type": "code",
   "execution_count": 86,
   "outputs": [],
   "source": [
    "from sklearn.ensemble import RandomForestRegressor\n",
    "\n",
    "rf=RandomForestRegressor(n_estimators=100,max_depth=10, random_state=42, bootstrap=True)\n",
    "\n",
    "rf.fit(X_train, y_train)\n",
    "\n",
    "# Сделали прогнозы\n",
    "y_rf_pred = rf.predict(X_test)"
   ],
   "metadata": {
    "collapsed": false,
    "pycharm": {
     "name": "#%%\n"
    }
   }
  },
  {
   "cell_type": "code",
   "execution_count": 87,
   "outputs": [
    {
     "name": "stdout",
     "output_type": "stream",
     "text": [
      "MAE: 1.1357009032231118\n",
      "RMSE: 1.781217652562156\n",
      "R2: 0.9635586118190831\n",
      "MAPE: 0.0817593755947613\n"
     ]
    }
   ],
   "source": [
    "print_metrics(np.exp(y_test),np.exp(y_tree_pred))"
   ],
   "metadata": {
    "collapsed": false,
    "pycharm": {
     "name": "#%%\n"
    }
   }
  },
  {
   "cell_type": "code",
   "execution_count": 89,
   "outputs": [
    {
     "data": {
      "text/plain": "<Figure size 720x432 with 1 Axes>",
      "image/png": "[encoded data removed]"
     },
     "metadata": {
      "needs_background": "light"
     },
     "output_type": "display_data"
    }
   ],
   "source": [
    "featureImportance = pd.DataFrame({\"feature\": data.drop('price',axis=1).columns,\n",
    "                                  \"importance\": rf.feature_importances_})\n",
    "\n",
    "featureImportance.set_index('feature', inplace=True)\n",
    "featureImportance.sort_values([\"importance\"], ascending=False, inplace=True)\n",
    "featureImportance[\"importance\"].plot(kind='bar', figsize=(10, 6));"
   ],
   "metadata": {
    "collapsed": false,
    "pycharm": {
     "name": "#%%\n"
    }
   }
  },
  {
   "cell_type": "markdown",
   "source": [
    "примерно то же качество модели, что и на Decision Tree"
   ],
   "metadata": {
    "collapsed": false,
    "pycharm": {
     "name": "#%% md\n"
    }
   }
  }
 ],
 "metadata": {
  "kernelspec": {
   "display_name": "Python 3",
   "language": "python",
   "name": "python3"
  },
  "language_info": {
   "codemirror_mode": {
    "name": "ipython",
    "version": 2
   },
   "file_extension": ".py",
   "mimetype": "text/x-python",
   "name": "python",
   "nbconvert_exporter": "python",
   "pygments_lexer": "ipython2",
   "version": "2.7.6"
  }
 },
 "nbformat": 4,
 "nbformat_minor": 0
}